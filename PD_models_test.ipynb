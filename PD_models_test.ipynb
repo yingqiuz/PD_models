{
 "cells": [
  {
   "cell_type": "code",
   "execution_count": null,
   "metadata": {
    "collapsed": true
   },
   "outputs": [],
   "source": [
    "import numpy as np\n",
    "from scipy.stats import norm\n",
    "import copy\n",
    "import matplotlib.pyplot as plt\n",
    "from __future__ import division"
   ]
  },
  {
   "cell_type": "code",
   "execution_count": 1,
   "metadata": {},
   "outputs": [],
   "source": [
    "from PD_models import agent_based_model"
   ]
  },
  {
   "cell_type": "code",
   "execution_count": null,
   "metadata": {
    "collapsed": true
   },
   "outputs": [],
   "source": [
    "class agent_based_model:\n",
    "    \n",
    "    \"\"\"\n",
    "    functions: \n",
    "        normal_alpha_syn_growth_region: growth of normal alpha-syn in regions\n",
    "        normal_alpha_syn_growth_edge: mobility patterns of normal alpha-syn in edges\n",
    "        normal_alpha_syn_growth_edge_discrete: a discrete version of mobility patterns, using length rather than probability to control the exits and enters\n",
    "        inject_mis: inject misfolded alpha-syn into seed region. default: inject one misfolded alpha-syn into substantia nigra\n",
    "        misfolded_alpha_syn_spread_region: interactions of normal and misfolded alpha-syn\n",
    "        misfolded_alpha_syn_spread_edge: mobility patterns of normal/misfolded alpha-syn in edges\n",
    "        misfolded_alpha_syn_spread_edge_discrete: a discrete version....\n",
    "        record_to_history: record the misfolded/normal alpha-syn population at each time step\n",
    "    usage:\n",
    "        ref_model = agent_based_model(sconn_len=sconn_len, sconn_den=sconn_den, snca=snca, gba=gba, roi_size=roi_size, fconn=fconn, fcscale=0)\n",
    "        T_total = 10000\n",
    "        for t in range(T_total):\n",
    "            ref_model.record_to_history()\n",
    "            ref_model.normal_alpha_syn_growth_edge()\n",
    "            ref_model.normal_alpha_syn_growth_region()\n",
    "        ref_model.inject_mis()\n",
    "        for t in range(T_total):\n",
    "            ref_model.record_to_history()\n",
    "            ref_model.misfolded_alpha_syn_spread_edge()\n",
    "            ref_model.misfolded_alpha_syn_spread_region()\n",
    "        print(ref_model.mis)\"\"\"\n",
    "    \n",
    "    # constructor\n",
    "    def __init__(self, v=1 , N_regions=42, dt=0.01, sconn_len=None, sconn_den=None, snca=None, gba=None, roi_size=None, fconn=None, fcscale=None):\n",
    "        \n",
    "        # number of regions\n",
    "        self.N_regions = N_regions\n",
    "        \n",
    "        # store number of normal and misfolded proteins in regions\n",
    "        self.nor,self.mis = [np.zeros((N_regions,), dtype = np.int)] * 2\n",
    "        self.nor_history, self.mis_history = [np.empty((0, N_regions), dtype = np.int)] * 2        \n",
    "        \n",
    "        # store number of normal and misfolded proteins in paths\n",
    "        self.sconn_len = np.int_(np.round(sconn_len / v))\n",
    "        (self.idx_x, self.idx_y) = np.nonzero(self.sconn_len)\n",
    "        self.non_zero_lengths = self.sconn_len[self.idx_x, self.idx_y]  # int64\n",
    "        self.path_nor, self.path_mis = [ [ [[] for y in range(N_regions)] for x in range(N_regions)] ] * 2\n",
    "        \n",
    "        #### is there more efficient way to do this?  --- to be updated.......\n",
    "        for x, y, v in zip(self.idx_x, self.idx_y, self.non_zero_lengths):\n",
    "            self.path_nor[x][y], self.path_mis[x][y] = [ [0 for k in range(v)] ] * 2\n",
    "            \n",
    "        # record the trajectory\n",
    "        self.path_nor_history = []\n",
    "        self.path_mis_history = []\n",
    "        \n",
    "        # continuous path and path history\n",
    "        self.path_nor_cont, self.path_mis_cont = [np.zeros((N_regions, N_regions), dtype = np.int)] * 2\n",
    "        self.path_nor_cont_history, self.path_mis_cont_history = [np.empty((0, self.N_regions, self.N_regions))] * 2\n",
    "        \n",
    "        # time step\n",
    "        self.dt = dt\n",
    "        \n",
    "        # synthesis rate and clearance rate\n",
    "        self.synthesis_rate = norm.cdf(snca) * self.dt\n",
    "        self.clearance_rate = 1 - np.exp(-norm.cdf(gba) * self.dt)       \n",
    "        \n",
    "        # probability of exit a path is set to v/sconn_len\n",
    "        sconn_len[sconn_len ==0] = np.inf\n",
    "        self.prob_exit = self.dt * v / sconn_len\n",
    "        self.prob_exit[sconn_len==0] = 0 # remove NaNs....\n",
    "        \n",
    "        # travel weights\n",
    "        self.weights = np.exp(fcscale * fconn) * sconn_den\n",
    "        \n",
    "        self.weights = np.sum(self.weights, axis = 1) * np.eye(self.N_regions) + self.weights\n",
    "        \n",
    "        # scale \n",
    "        self.weights = self.weights / np.sum(self.weights, axis = 1).reshape(self.N_regions, 1)\n",
    "        \n",
    "        self.weights_euler = self.weights * self.dt\n",
    "        self.weights_euler[np.eye(self.N_regions)==1] = 0\n",
    "        self.weights_euler[np.eye(self.N_regions)==1] = 1-np.sum(self.weights_euler, axis=1)\n",
    "        \n",
    "        # region size\n",
    "        self.roi_size = roi_size.flatten()\n",
    "        \n",
    "        self.synthesis_control = np.int_(roi_size.flatten())\n",
    "        \n",
    "                \n",
    "    def normal_alpha_syn_growth_region(self):\n",
    "        \"\"\"step: normal alpha-syn synthesized and cleared in regions\"\"\"\n",
    "\n",
    "        self.nor -= np.array([np.sum(np.random.uniform(0, 1, (v, )) < k) \n",
    "                             for k, v in zip(self.clearance_rate, self.nor)])\n",
    "        \n",
    "        \n",
    "        ## synthesis\n",
    "        self.nor += np.array([np.sum(np.random.uniform(0, 1, (v, )) < k) \n",
    "                              for k, v in zip(self.synthesis_rate, self.synthesis_control) ])\n",
    "                              # or self.roi_size)])\n",
    "    \n",
    "    def normal_alpha_syn_growth_edge_discrete(self):\n",
    "        \"\"\"proteins are moving discretely in edges\"\"\"\n",
    "        # alpha syn  -- from region to path\n",
    "        # exit region\n",
    "        exit_process = np.array([ np.random.multinomial(self.nor[k], self.weights[k]) \n",
    "                                 for k in range(self.N_regions)], dtype = np.int)\n",
    "        \n",
    "        # alpha syn -- from path to region\n",
    "        # enter region\n",
    "        enter_process = np.zeros((self.N_regions, self.N_regions), dtype=np.int)\n",
    "        \n",
    "        for x, y in zip(self.idx_x, self.idx_y):\n",
    "            # fetch then remove the last element\n",
    "            enter_process[x, y] = self.path_nor[x][y].pop()\n",
    "            # update paths\n",
    "            self.path_nor[x][y].insert(0, exit_process[x, y])\n",
    "\n",
    "        # update regions \n",
    "        self.nor = exit_process[np.nonzero(np.eye(self.N_regions))] + np.sum(enter_process, axis = 0)\n",
    "        \n",
    "    def normal_alpha_syn_growth_edge(self):\n",
    "        \"\"\"proteins are moving contiously in edges\"\"\"\n",
    "        \n",
    "        # exit regions:\n",
    "        exit_process = np.array([ np.random.multinomial(self.nor[k], self.weights_euler[k]) \n",
    "                                 for k in range(self.N_regions)], dtype = np.int) \n",
    "        exit_process[np.eye(self.N_regions)==1] = 0 # remove diag\n",
    "        \n",
    "        # enter regions:\n",
    "        enter_process = np.zeros((self.N_regions, self.N_regions), dtype = np.int)\n",
    "        \n",
    "        for x, y in zip(self.idx_x, self.idx_y):\n",
    "            enter_process[x, y] = np.sum(np.random.uniform(0, 1, (self.path_nor_cont[x, y], )) < self.prob_exit[x, y]*self.dt)\n",
    "        \n",
    "        # update:\n",
    "        self.path_nor_cont += (exit_process - enter_process)        \n",
    "        self.nor += (np.sum(enter_process, axis = 0) - np.sum(exit_process, axis=1) )\n",
    "        \n",
    "        \n",
    "    def inject_mis(self, seed=41, initial_number=1):\n",
    "        \n",
    "        \"\"\"inject initual_number misfolded protein into seed region\"\"\"\n",
    "        # initial_number must be an interger\n",
    "        self.mis[seed] = initial_number\n",
    "        #print('inject %d misfolded alpha-syn into region %d' % (initial_number, seed))\n",
    "        \n",
    "    \n",
    "    def misfolded_alpha_syn_spread_edge_discrete(self):\n",
    "        \"\"\" step in paths for normal and misfolded alpha syn\"\"\"\n",
    "        \n",
    "        ############## misfolded alpha synuclein ###########\n",
    "        # exit regions\n",
    "        exit_process = np.array([ np.random.multinomial(v, self.weights[k]) \n",
    "                                 for k, v in enumerate(self.mis)], dtype = np.int)\n",
    "        # alpha syn -- from path to region\n",
    "        # enter region\n",
    "        enter_process = np.zeros((self.N_regions, self.N_regions), dtype = np.int)\n",
    "        for x, y in zip(self.idx_x, self.idx_y):\n",
    "            # fetch then remove the last element\n",
    "            enter_process[x, y] = self.path_mis[x][y].pop()\n",
    "            # update paths\n",
    "            self.path_mis[x][y].insert(0, exit_process[x, y])\n",
    "\n",
    "        # update regions \n",
    "        self.mis = exit_process[np.nonzero(np.eye(self.N_regions))] + np.sum(enter_process, axis = 0)\n",
    "        \n",
    "        ########### for the normal alpha syuclein ###########\n",
    "        exit_process = np.array([ np.random.multinomial(self.nor[k], self.weights[k]) \n",
    "                                 for k in range(self.N_regions)], dtype = np.int)\n",
    "        \n",
    "        # alpha syn -- from path to region\n",
    "        # enter region\n",
    "        enter_process = np.zeros((self.N_regions, self.N_regions), dtype=np.int)\n",
    "        \n",
    "        for x, y in zip(self.idx_x, self.idx_y):\n",
    "            # fetch then remove the last element\n",
    "            enter_process[x, y] = self.path_nor[x][y].pop()\n",
    "            # update paths\n",
    "            self.path_nor[x][y].insert(0, exit_process[x, y])\n",
    "\n",
    "        # update regions \n",
    "        self.nor = exit_process[np.nonzero(np.eye(self.N_regions))] + np.sum(enter_process, axis = 0)\n",
    "        \n",
    "    def misfolded_alpha_syn_spread_edge(self):\n",
    "        \"\"\"proteins are moving continously\"\"\"\n",
    "        ##### misfolded alpha synuclein #####\n",
    "        exit_process = np.array([ np.random.multinomial(v, self.weights_euler[k]) \n",
    "                                 for k, v in enumerate(self.mis)], dtype = np.int) \n",
    "        exit_process[np.eye(self.N_regions)==1] = 0\n",
    "        \n",
    "        enter_process = np.zeros((self.N_regions, self.N_regions), dtype = np.int)\n",
    "        # enter regions:\n",
    "        for x, y in zip(self.idx_x, self.idx_y):\n",
    "            enter_process[x, y] = np.sum(np.random.uniform(0, 1, (self.path_mis_cont[x, y], ))< self.prob_exit[x, y] * self.dt)\n",
    "        \n",
    "        # update\n",
    "        self.path_mis_cont += (exit_process - enter_process)\n",
    "        self.mis +=  (np.sum(enter_process, axis = 0) - np.sum(exit_process, axis = 1) )\n",
    "        \n",
    "        ####### normal alpha synuclein #######\n",
    "        # exit regions:\n",
    "        exit_process = np.array([ np.random.multinomial(self.nor[k], self.weights_euler[k]) \n",
    "                                 for k in range(self.N_regions)], dtype = np.int) * self.dt\n",
    "        exit_process[np.eye(self.N_regions)==1] = 0\n",
    "        \n",
    "        # enter regions:\n",
    "        enter_process = np.zeros((self.N_regions, self.N_regions), dtype = np.int)\n",
    "        for x, y in zip(self.idx_x, self.idx_y):\n",
    "            enter_process[x, y] = np.sum(np.random.uniform(0, 1, (self.path_nor_cont[x, y], ) ) < self.prob_exit[x, y]*self.dt)\n",
    "            \n",
    "        # update:\n",
    "        self.path_nor_cont += (exit_process - enter_process)\n",
    "        self.nor += (np.sum(enter_process, axis = 0) - np.sum(exit_process, axis=1) )\n",
    "        \n",
    "    def misfolded_alpha_syn_spread_region(self, trans_rate=1):\n",
    "        \"\"\"clearance and synthesis of normal/misfolded alpha-syn/ transsmssion process in regions\"\"\"\n",
    "        ## clearance\n",
    "        cleared_nor = np.array([np.sum(np.random.uniform(0, 1, (v, )) < k) \n",
    "                             for k, v in zip(self.clearance_rate, self.nor)])\n",
    "        \n",
    "        cleared_mis = np.array([np.sum(np.random.uniform(0, 1, (v, )) < k) \n",
    "                             for k, v in zip(self.clearance_rate, self.mis)])\n",
    "        \n",
    "        self.prob_infected = 1 - np.exp(- (self.dt * self.mis * trans_rate / (self.roi_size)) )\n",
    "        # the remaining after clearance\n",
    "        self.nor -= cleared_nor\n",
    "        self.mis -= cleared_mis\n",
    "        #self.prob_infected = 1 - np.exp(- (self.mis / self.roi_size) )\n",
    "        infected_nor = np.array([np.sum(np.random.uniform(0, 1, (v, )) < k) \n",
    "                             for k, v in zip(self.prob_infected, self.nor)])\n",
    "        # update self.nor and self.mis\n",
    "        self.nor += (np.array([np.sum(np.random.uniform(0, 1, (v, )) < k) \n",
    "                              for k, v in zip(self.synthesis_rate, self.roi_size)]) - infected_nor)\n",
    "        self.mis += infected_nor \n",
    "        \n",
    "        #print(self.mis)\n",
    "        \n",
    "    def transmission_path(self, trans_rate_path):\n",
    "        \n",
    "        \"\"\"transmission process in path (default shut down)\"\"\"\n",
    "        for x, y, v in zip(self.idx_x, self.idx_y, self.non_zero_lengths):\n",
    "            ### perhaps trans_rate_path should be set to 1/v ?\n",
    "            # transmission rate is scaled by exp(distance) in voxel space\n",
    "            path_nor_temp = np.array(self.path_nor[x][y])\n",
    "            path_mis_temp = np.array(self.path_mis[x][y])\n",
    "            rate_get_infected = (path_mis_temp * trans_rate_path) / np.exp(np.absolute(np.arange(v) - np.arange(v)[np.newaxis].T) )\n",
    "            prob_get_infected = 1 - np.exp(np.sum(-rate_get_infected, axis = 1))\n",
    "            infected_path = np.array([np.sum(np.random.uniform(0, 1, (k, ))<v) for \n",
    "                                      k, v in zip(self.path_nor[x][y], prob_get_infected)])\n",
    "            \n",
    "            # update self.path_nor and self.path_mis\n",
    "            path_nor_temp -= infected_path\n",
    "            path_mis_temp += infected_path\n",
    "            \n",
    "            self.path_nor[x][y] = path_nor_temp.tolist()\n",
    "            self.path_mis[x][y] = path_mis_temp.tolist()\n",
    "            \n",
    "        \n",
    "    def record_to_history_discrete(self):\n",
    "        \"\"\"record the results of each step into the recorder\"\"\"\n",
    "        self.nor_history = np.append(self.nor_history, self.nor[np.newaxis], axis = 0)\n",
    "        self.mis_history = np.append(self.mis_history, self.mis[np.newaxis], axis = 0)\n",
    "        \n",
    "        # record the mobility patterns in edges\n",
    "        #self.path_nor_history.append(self.path_nor)\n",
    "        #self.path_mis_history.append(self.path_mis)\n",
    "        \n",
    "    def record_to_history(self):\n",
    "        \"\"\"record the results of each step\"\"\"\n",
    "        self.nor_history = np.append(self.nor_history, self.nor[np.newaxis], axis = 0)\n",
    "        self.mis_history = np.append(self.mis_history, self.mis[np.newaxis], axis = 0)\n",
    "        \n",
    "        # record the mobility patterns in edges\n",
    "        #self.path_nor_cont_history = np.append(self.path_nor_cont_history, self.path_nor_cont.reshape(1, 42, 42), axis = 0)\n",
    "        #self.path_mis_cont_history = np.append(self.path_mis_cont_history, self.path_mis_cont.reshape(1, 42, 42), axis = 0)\n",
    "        "
   ]
  },
  {
   "cell_type": "code",
   "execution_count": null,
   "metadata": {
    "collapsed": true
   },
   "outputs": [],
   "source": [
    "class SIR_model:\n",
    "    \"\"\"An SIR model to simulate the spread of alpha-syn\"\"\"\n",
    "    \n",
    "    # constructor\n",
    "    def __init__(self, v=1 , N_regions=42, dt=0.01, sconn_len=None, sconn_den=None, snca=None, gba=None, roi_size=None, fconn=None, fcscale=None):\n",
    "        \n",
    "        # number of regions\n",
    "        self.N_regions = N_regions\n",
    "        \n",
    "        # store number of normal and misfolded proteins in regions\n",
    "        self.nor, self.mis = [np.zeros((N_regions, ))] * 2\n",
    "        self.nor_history, self.mis_history = [np.empty((0, N_regions))] * 2\n",
    "        \n",
    "        # store number of normal and misfoded proteins in paths\n",
    "        self.path_nor, self.path_mis = [np.zeros((N_regions, N_regions))] * 2\n",
    "        self.path_nor_history, self.path_mis_history = [np.empty((0, N_regions, N_regions))] * 2\n",
    "        \n",
    "        # index of connected components\n",
    "        (self.idx_x, self.idx_y) = np.nonzero(sconn_len)\n",
    "        self.non_zero_lengths = sconn_len[np.nonzero(sconn_len)]\n",
    "        \n",
    "        # probability of exit a path is set to v/sconn_len\n",
    "        sconn_len[sconn_len == 0] = np.inf\n",
    "        self.prob_exit = v / sconn_len\n",
    "        self.prob_exit[sconn_len==0] = 0\n",
    "        \n",
    "        # synthesis rate and  clearance rate\n",
    "        self.synthesis_rate = norm.cdf(snca) * self.dt\n",
    "        self.clearance_rate = 1 - np.exp( -norm.cdf(gba) * self.dt)\n",
    "        \n",
    "        # mobility pattern multinomial distribution\n",
    "        self.weights = np.exp(fcscale * fconn) * sconn_den\n",
    "        self.weights = np.diag(np.sum(sconn_den, axis = 1)) + sconn_den\n",
    "        self.weights = self.weights / np.sum(self.weights, axis = 1)[np.newaxis].T\n",
    "        \n",
    "        # region size\n",
    "        self.roi_size = roi_size.flatten() \n",
    "        \n",
    "    def normal_alpha_syn_growth_region(self):\n",
    "        \"\"\"normal alpha-syn growing\"\"\"\n",
    "        self.nor += (self.roi_size * self.synthesis_rate - self.nor * self.clearance_rate)\n",
    "        \n",
    "    def normal_alpha_syn_growth_edge(self):\n",
    "        \n",
    "        # enter paths\n",
    "        enter_process = self.nor.reshape(self.N_regions, 1) * self.weights * self.dt\n",
    "        enter_process[np.eye(self.N_regions)==1] = 0 # remove diag\n",
    "        \n",
    "        # exit paths\n",
    "        exit_process = self.path_nor * self.prob_exit * self.dt\n",
    "        \n",
    "        # update paths and regions  \n",
    "        self.nor += (np.sum(exit_process, axis = 0) - np.sum(enter_process, axis = 1) )\n",
    "        self.path_nor += (enter_process - exit_process)        \n",
    "        \n",
    "    def inject_mis(self, seed=41, initial_number=1):\n",
    "        \"\"\"inject misfolded alpha-syn in seed region\"\"\"\n",
    "        \n",
    "        self.mis[seed] = initial_number\n",
    "        #print('inject %d misfolded alpha-syn into region %d' % (initial_number, seed))\n",
    "        \n",
    "    def misfolded_alpha_syn_spread_edge(self):\n",
    "        ##### misfolded alpha-syn\n",
    "        # enter paths\n",
    "        enter_process = self.mis.reshape(self.N_regions, 1) * self.weights * self.dt\n",
    "        enter_process[np.eye(self.N_regions)==1] = 0 # remove diag\n",
    "        \n",
    "        # exit paths\n",
    "        exit_process = self.path_mis * self.prob_exit\n",
    "        \n",
    "        # update paths and regions \n",
    "        self.mis += (-np.sum(enter_process, axis=1) + np.sum(exit_process, axis = 0))\n",
    "        self.path_mis += (enter_process - exit_process)\n",
    "        \n",
    "        ###### normal alpha-syn\n",
    "        # enter paths\n",
    "        enter_process = self.nor.reshape(self.N_regions, 1) * self.weights * self.dt\n",
    "        enter_process[np.eye(self.N_regions)==1] = 0 # remove diag\n",
    "        \n",
    "        # exit paths\n",
    "        exit_process = self.path_nor * self.prob_exit * self.dt\n",
    "        \n",
    "        # update paths and regions  \n",
    "        self.nor += (np.sum(exit_process, axis = 0) - np.sum(enter_process, axis = 1) )\n",
    "        self.path_nor += (enter_process - exit_process)\n",
    "        \n",
    "    def misfolded_alpha_syn_spread_region(self, trans_rate=1):\n",
    "        '\"\"\"the transmission process inside regions\"\"\"'\n",
    "        \n",
    "        prob_get_infected = 1 - np.exp(-self.mis * trans_rate * self.dt / self.roi_size)\n",
    "        # clear process\n",
    "        self.nor -= self.nor * self.clearance_rate\n",
    "        self.mis -= self.mis * self.clearance_rate\n",
    "        \n",
    "        infected = self.nor * prob_get_infected\n",
    "        self.nor += (self.roi_size * self.synthesis_rate - infected)\n",
    "        self.mis += (infected)\n",
    "        \n",
    "    def transmission_path(self):\n",
    "        \n",
    "        \"\"\"the transmission process in paths\"\"\" \n",
    "        pass\n",
    "    \n",
    "    def record_to_history(self):\n",
    "        \"\"\"record the results\"\"\"\n",
    "        self.nor_history = np.append(self.nor_history, self.nor[np.newaxis], axis = 0)\n",
    "        self.mis_history = np.append(self.mis_history, self.mis[np.newaxis], axis = 0)\n",
    "        \n",
    "        self.path_nor_history = np.append(self.path_nor_history, \n",
    "                                          self.path_nor.reshape(1, self.N_regions, self.N_regions), axis = 0)\n",
    "        self.path_mis_history = np.append(self.path_mis_history, \n",
    "                                          self.path_mis.reshape(1, self.N_regions, self.N_regions), axis = 0)\n",
    "        \n",
    "        "
   ]
  },
  {
   "cell_type": "code",
   "execution_count": null,
   "metadata": {
    "collapsed": true
   },
   "outputs": [],
   "source": [
    "from scipy.io import loadmat\n",
    "import numpy as np\n",
    "#from scipy.stats.stats import zscore,pearsonr"
   ]
  },
  {
   "cell_type": "code",
   "execution_count": null,
   "metadata": {
    "collapsed": true
   },
   "outputs": [],
   "source": [
    "para = loadmat('/Users/yingqiuzheng/Desktop/Research/PD/Lh/DTIseeds/Resol1/parameters_final_normalized.mat')"
   ]
  },
  {
   "cell_type": "code",
   "execution_count": null,
   "metadata": {},
   "outputs": [],
   "source": [
    "sconn_len = np.array(para['sc_len_total'])\n",
    "sconn_den = np.array(para['sc_ncount_n_total'])\n",
    "roi_size = np.array(para['ROIsize'])\n",
    "gba = para['GBA']\n",
    "snca = para['SNCA']\n",
    "real_atrophy = para['real_atrophy']"
   ]
  },
  {
   "cell_type": "code",
   "execution_count": null,
   "metadata": {},
   "outputs": [],
   "source": [
    "ref_model = agent_based_model(v=1 , N_regions=42, dt=0.01, sconn_len=sconn_len, sconn_den=sconn_den, snca=snca.flatten(), gba=gba.flatten(), roi_size=roi_size.flatten(), fconn=np.zeros((42, 42)), fcscale=0)"
   ]
  },
  {
   "cell_type": "code",
   "execution_count": null,
   "metadata": {
    "scrolled": true
   },
   "outputs": [],
   "source": [
    "for t in range(10000):\n",
    "    ref_model.record_to_history()\n",
    "    ref_model.normal_alpha_syn_growth_edge()\n",
    "    ref_model.normal_alpha_syn_growth_region()\n",
    "    print(ref_model.nor)    "
   ]
  },
  {
   "cell_type": "code",
   "execution_count": null,
   "metadata": {
    "collapsed": true
   },
   "outputs": [],
   "source": []
  },
  {
   "cell_type": "code",
   "execution_count": null,
   "metadata": {},
   "outputs": [],
   "source": [
    "ratio = one_model.mis_history / (one_model.mis_history + one_model.nor_history)\n",
    "plt.figure(figsize = (35, 5))\n",
    "plt.imshow(ratio.T,  cmap=plt.cm.RdBu, aspect='auto')\n",
    "plt.xlim(0, 6000)\n",
    "plt.ylim(0, 41)\n",
    "plt.colorbar()\n",
    "plt.show()"
   ]
  },
  {
   "cell_type": "code",
   "execution_count": null,
   "metadata": {},
   "outputs": [],
   "source": [
    "snca"
   ]
  },
  {
   "cell_type": "code",
   "execution_count": 3,
   "metadata": {},
   "outputs": [
    {
     "ename": "NameError",
     "evalue": "name 'np' is not defined",
     "output_type": "error",
     "traceback": [
      "\u001b[0;31m---------------------------------------------------------------------------\u001b[0m",
      "\u001b[0;31mNameError\u001b[0m                                 Traceback (most recent call last)",
      "\u001b[0;32m<ipython-input-3-06b75aa14708>\u001b[0m in \u001b[0;36m<module>\u001b[0;34m()\u001b[0m\n\u001b[0;32m----> 1\u001b[0;31m \u001b[0mnp\u001b[0m\u001b[0;34m.\u001b[0m\u001b[0marange\u001b[0m\u001b[0;34m(\u001b[0m\u001b[0;36m3\u001b[0m\u001b[0;34m)\u001b[0m\u001b[0;34m\u001b[0m\u001b[0m\n\u001b[0m",
      "\u001b[0;31mNameError\u001b[0m: name 'np' is not defined"
     ]
    }
   ],
   "source": [
    "np.arange(3)"
   ]
  },
  {
   "cell_type": "code",
   "execution_count": 4,
   "metadata": {
    "scrolled": true
   },
   "outputs": [
    {
     "ename": "NameError",
     "evalue": "name 'ref_model' is not defined",
     "output_type": "error",
     "traceback": [
      "\u001b[0;31m---------------------------------------------------------------------------\u001b[0m",
      "\u001b[0;31mNameError\u001b[0m                                 Traceback (most recent call last)",
      "\u001b[0;32m<ipython-input-4-1db5ceea0ef5>\u001b[0m in \u001b[0;36m<module>\u001b[0;34m()\u001b[0m\n\u001b[0;32m----> 1\u001b[0;31m \u001b[0mprint\u001b[0m\u001b[0;34m(\u001b[0m\u001b[0mref_model\u001b[0m\u001b[0;34m.\u001b[0m\u001b[0mweights\u001b[0m\u001b[0;34m[\u001b[0m\u001b[0;34m:\u001b[0m\u001b[0;34m,\u001b[0m \u001b[0;36m0\u001b[0m\u001b[0;34m]\u001b[0m\u001b[0;34m)\u001b[0m\u001b[0;34m\u001b[0m\u001b[0m\n\u001b[0m",
      "\u001b[0;31mNameError\u001b[0m: name 'ref_model' is not defined"
     ]
    }
   ],
   "source": [
    "print(ref_model.weights[:, 0])"
   ]
  },
  {
   "cell_type": "code",
   "execution_count": null,
   "metadata": {
    "collapsed": true
   },
   "outputs": [],
   "source": [
    "for t in range(600):\n",
    "    ref_model.record_to_history()\n",
    "    ref_model.nor_step_region()\n",
    "    ref_model.nor_travel()"
   ]
  },
  {
   "cell_type": "code",
   "execution_count": null,
   "metadata": {
    "scrolled": true
   },
   "outputs": [],
   "source": [
    "plt.plot(np.arange(42), (1  - np.exp(- 7 / ref_model.nor)  ) )\n",
    "#plt.plot(np.arange(42), ref_model.clearance_rate)\n",
    "plt.show()\n",
    "#np.max((1  - np.exp(- 1 / roi_size.flatten())  )* ref_model.nor*ref_model.clearance_rate)"
   ]
  },
  {
   "cell_type": "code",
   "execution_count": null,
   "metadata": {},
   "outputs": [],
   "source": [
    "plt.plot(np.arange(42), ref_model.nor_history[599,:])\n",
    "plt.plot(np.arange(42), ref_model.synthesis_rate * ref_model.roi_size)\n",
    "plt.show()"
   ]
  },
  {
   "cell_type": "code",
   "execution_count": null,
   "metadata": {},
   "outputs": [],
   "source": [
    "plt.plot(ref_model.synthesis_rate * ref_model.roi_size, ref_model.nor_history[599,:], marker = 'o', ls='')\n",
    "plt.show()"
   ]
  },
  {
   "cell_type": "code",
   "execution_count": null,
   "metadata": {},
   "outputs": [],
   "source": [
    "print(norm.cdf(snca)/norm.cdf(gba))"
   ]
  },
  {
   "cell_type": "code",
   "execution_count": null,
   "metadata": {},
   "outputs": [],
   "source": [
    "ref_model.nor"
   ]
  },
  {
   "cell_type": "code",
   "execution_count": null,
   "metadata": {},
   "outputs": [],
   "source": [
    "one_model.prob_infected"
   ]
  },
  {
   "cell_type": "code",
   "execution_count": null,
   "metadata": {},
   "outputs": [],
   "source": [
    "from scipy.io import loadmat\n",
    "para2 = loadmat('/dagher/dagher6/yzheng/ICBM152_nlin_sym_09a/simulator_v3/workspace.mat')\n",
    "nsconn_den = para2['nsconnDen_th']\n",
    "np.sum(nsconn_den, axis = 1).shape\n",
    "weights = nsconn_den / np.sum(nsconn_den, axis = 0)[np.newaxis]\n",
    "print(np.sum(weights, axis = 0))"
   ]
  },
  {
   "cell_type": "code",
   "execution_count": null,
   "metadata": {},
   "outputs": [],
   "source": [
    "ratio = one_model.mis_history / (one_model.mis_history + one_model.nor_history)\n",
    "plt.imshow(ratio_cum.T, aspect='auto')\n",
    "plt.xlim(0, 7000)\n",
    "plt.ylim(0, 41)\n",
    "plt.colorbar()\n",
    "plt.show()"
   ]
  },
  {
   "cell_type": "code",
   "execution_count": null,
   "metadata": {},
   "outputs": [],
   "source": [
    "weights = nsconn_den / np.sum(nsconn_den, axis = 0)[np.newaxis]\n",
    "ratio_th = ratio.copy()\n",
    "ratio_th[ratio<0] = 0\n",
    "ratio_cum = np.dot( (1 - np.exp(-ratio_th)), weights)\n",
    "ratio_cum = ratio_cum + 1-np.exp(-ratio_th)\n",
    "ratio_cum = np.cumsum(ratio_cum[3000:], axis = 0)\n",
    "(r, p) = pearsonr(ratio[-1, :-1], real_atrophy.flatten())\n",
    "r"
   ]
  },
  {
   "cell_type": "code",
   "execution_count": null,
   "metadata": {},
   "outputs": [],
   "source": [
    "plt.plot"
   ]
  },
  {
   "cell_type": "code",
   "execution_count": null,
   "metadata": {},
   "outputs": [],
   "source": [
    "r"
   ]
  },
  {
   "cell_type": "code",
   "execution_count": null,
   "metadata": {},
   "outputs": [],
   "source": [
    "plt.plot(np.arange(one_model.mis_history.shape[0]), one_model.mis_history[:, 41])\n",
    "plt.show()"
   ]
  },
  {
   "cell_type": "code",
   "execution_count": null,
   "metadata": {},
   "outputs": [],
   "source": [
    "ref_model.nor"
   ]
  },
  {
   "cell_type": "code",
   "execution_count": null,
   "metadata": {},
   "outputs": [],
   "source": [
    "np.nonzero(sconn_len[41])"
   ]
  },
  {
   "cell_type": "code",
   "execution_count": null,
   "metadata": {},
   "outputs": [],
   "source": [
    "sconn_len[41, np.nonzero(sconn_len[41])]"
   ]
  },
  {
   "cell_type": "code",
   "execution_count": null,
   "metadata": {},
   "outputs": [],
   "source": [
    "r = np.zeros((42, 100))\n",
    "for region in np.arange(42):\n",
    "    \"\"\"iterate through regions to find epicentre\"\"\"\n",
    "    for simulation in np.arange(100):\n",
    "        one_model = copy.deepcopy(ref_model)\n",
    "        one_model.inject_mis(41, 1)\n",
    "        for t in range(2000):\n",
    "            one_model.record_to_history()\n",
    "            one_model.transmission_region()\n",
    "            one_model.nor_travel()\n",
    "            one_model.mis_travel()\n",
    "        \n",
    "        ratio = one_model.mis_history / (one_model.mis_history + one_model.nor_history)\n",
    "        ratio_th = ratio.copy()\n",
    "        ratio_th[ratio<0.2] = 0\n",
    "        ratio_cum = np.dot( (1 - np.exp(-ratio_th)), weights)\n",
    "        ratio_cum = ratio_cum + 1-np.exp(-ratio_th)\n",
    "        ratio_cum = np.cumsum(ratio_cum[600:], axis = 0)\n",
    "        (r[region, simulation], p) = pearsonr(ratio_cum[-1, :-1], real_atrophy.flatten())\n",
    "        if r[region,simulation] == np.nan:\n",
    "            r[region, simulation] = 0"
   ]
  },
  {
   "cell_type": "code",
   "execution_count": null,
   "metadata": {
    "collapsed": true
   },
   "outputs": [],
   "source": [
    "r[np.isnan(r)] = 0"
   ]
  },
  {
   "cell_type": "code",
   "execution_count": null,
   "metadata": {
    "collapsed": true
   },
   "outputs": [],
   "source": [
    "mean_r = np.mean(r, axis = 1)"
   ]
  },
  {
   "cell_type": "code",
   "execution_count": null,
   "metadata": {
    "collapsed": true
   },
   "outputs": [],
   "source": [
    "sconn = loadmat('/dagher/dagher6/yzheng/ICBM152_nlin_sym_09a/sconn0712.mat')\n",
    "sconn_len = sconn['sconnLen_expand']\n",
    "sconn_den = sconn['sconnDen_expand']"
   ]
  },
  {
   "cell_type": "code",
   "execution_count": null,
   "metadata": {},
   "outputs": [],
   "source": [
    "print(one_model.mis_history[:, 41])"
   ]
  },
  {
   "cell_type": "code",
   "execution_count": null,
   "metadata": {},
   "outputs": [],
   "source": [
    "print(ref_model.synthesis_rate * roi_size.flatten())"
   ]
  },
  {
   "cell_type": "code",
   "execution_count": null,
   "metadata": {},
   "outputs": [],
   "source": [
    "np.ones((3, ), dtype = np.int) * 0.01"
   ]
  },
  {
   "cell_type": "code",
   "execution_count": null,
   "metadata": {},
   "outputs": [],
   "source": [
    "np.array([k for k in range(4)]) * 0.1"
   ]
  },
  {
   "cell_type": "code",
   "execution_count": null,
   "metadata": {
    "collapsed": true
   },
   "outputs": [],
   "source": [
    "?agent_based_model"
   ]
  },
  {
   "cell_type": "code",
   "execution_count": null,
   "metadata": {
    "collapsed": true
   },
   "outputs": [],
   "source": []
  }
 ],
 "metadata": {
  "celltoolbar": "Raw Cell Format",
  "kernelspec": {
   "display_name": "Python [default]",
   "language": "python",
   "name": "python3"
  },
  "language_info": {
   "codemirror_mode": {
    "name": "ipython",
    "version": 3
   },
   "file_extension": ".py",
   "mimetype": "text/x-python",
   "name": "python",
   "nbconvert_exporter": "python",
   "pygments_lexer": "ipython3",
   "version": "3.5.3"
  }
 },
 "nbformat": 4,
 "nbformat_minor": 1
}
