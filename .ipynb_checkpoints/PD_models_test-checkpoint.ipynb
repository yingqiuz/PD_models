{
 "cells": [
  {
   "cell_type": "code",
   "execution_count": 2,
   "metadata": {
    "collapsed": true
   },
   "outputs": [],
   "source": [
    "import numpy as np\n",
    "from scipy.stats import norm\n",
    "import copy\n",
    "import matplotlib.pyplot as plt\n",
    "from __future__ import division"
   ]
  },
  {
   "cell_type": "code",
   "execution_count": null,
   "metadata": {
    "collapsed": true
   },
   "outputs": [],
   "source": [
    "class agent_based_model:\n",
    "    \n",
    "    \"\"\"set the model as object\"\"\"\n",
    "    \n",
    "    # constructor\n",
    "    def __init__(self, v=1 , N_regions=42, dt=0.01, sconn_len=None, sconn_den=None, snca=None, gba=None, roi_size=None, fconn=None, fcscale=None):\n",
    "        \n",
    "        # number of regions\n",
    "        self.N_regions = N_regions\n",
    "        \n",
    "        # store number of normal and misfolded proteins in regions\n",
    "        self.nor = np.zeros((N_regions,), dtype = np.int)\n",
    "        self.nor_history = np.empty((0, N_regions), dtype = np.int)\n",
    "        self.mis = np.zeros((N_regions,), dtype = np.int)\n",
    "        self.mis_history = np.empty((0, N_regions), dtype = np.int)\n",
    "        \n",
    "        \n",
    "        # store number of normal and misfolded proteins in paths\n",
    "        self.sconn_len = np.int_(np.round(sconn_len / v))\n",
    "        (self.idx_x, self.idx_y) = np.nonzero(self.sconn_len)\n",
    "        self.non_zero_lengths = self.sconn_len[self.idx_x, self.idx_y]  # int64\n",
    "        self.path_nor, self.path_mis = [ [ [[] for y in range(N_regions)] for x in range(N_regions)] ] * 2\n",
    "        \n",
    "        #### is there more efficient way to do this?  --- to be updated.......\n",
    "        for x, y, v in zip(self.idx_x, self.idx_y, self.non_zero_lengths):\n",
    "            self.path_nor[x][y], self.path_mis[x][y] = [ [0 for k in range(v)] ] * 2\n",
    "            \n",
    "        # record the trajectory\n",
    "        self.path_nor_history = []\n",
    "        self.path_mis_history = []\n",
    "        \n",
    "        # continuous path and path history\n",
    "        self.path_nor_cont, self.path_mis_cont = [np.zeros((N_regions, N_regions), dtype = np.int)] * 2\n",
    "        self.path_nor_cont_history, self.path_mis_cont_history = [np.empty((0, self.N_regions, self.N_regions))] * 2\n",
    "        \n",
    "        # time step\n",
    "        self.dt = dt\n",
    "        \n",
    "        # synthesis rate and clearance rate\n",
    "        self.synthesis_rate = norm.cdf(snca) * self.dt\n",
    "        self.clearance_rate = 1 - np.exp(-norm.cdf(gba) * self.dt)       \n",
    "        \n",
    "        # probability of exit a path is set to v/sconn_len\n",
    "        sconn_len[sconn_len ==0] = np.inf\n",
    "        self.prob_exit = self.dt * v / sconn_len\n",
    "        self.prob_exit[sconn_len==0] = 0 # remove NaNs....\n",
    "        \n",
    "        # travel weights\n",
    "        self.weights = np.exp(fcscale * fconn) * sconn_den\n",
    "        \n",
    "        self.weights = np.sum(self.weights, axis = 1) * np.eye(self.N_regions) + self.weights\n",
    "        \n",
    "        # scale \n",
    "        self.weights = self.weights / np.sum(self.weights, axis = 1).reshape(self.N_regions, 1)\n",
    "        \n",
    "        self.weights_euler = self.weights * self.dt\n",
    "        self.weights_euler[np.eye(self.N_regions)==1] = 0\n",
    "        self.weights_euler[np.eye(self.N_regions)==1] = 1-np.sum(self.weights_euler, axis=1)\n",
    "        \n",
    "        # region size\n",
    "        self.roi_size = roi_size.flatten()\n",
    "        \n",
    "        self.synthesis_control = np.int_(roi_size.flatten())\n",
    "        \n",
    "                \n",
    "    def normal_alpha_syn_growth_region(self):\n",
    "        \"\"\"step: normal alpha-syn synthesized and cleared in regions\"\"\"\n",
    "\n",
    "        self.nor -= np.array([np.sum(np.random.uniform(0, 1, (v, )) < k) \n",
    "                             for k, v in zip(self.clearance_rate, self.nor)])\n",
    "        \n",
    "        \n",
    "        ## synthesis\n",
    "        self.nor += np.array([np.sum(np.random.uniform(0, 1, (v, )) < k) \n",
    "                              for k, v in zip(self.synthesis_rate, self.synthesis_control) ])\n",
    "                              # or self.roi_size)])\n",
    "    \n",
    "    def normal_alpha_syn_growth_edge_discrete(self):\n",
    "        \"\"\"proteins are moving discretely in edges\"\"\"\n",
    "        # alpha syn  -- from region to path\n",
    "        # exit region\n",
    "        exit_process = np.array([ np.random.multinomial(self.nor[k], self.weights[k]) \n",
    "                                 for k in range(self.N_regions)], dtype = np.int)\n",
    "        \n",
    "        # alpha syn -- from path to region\n",
    "        # enter region\n",
    "        enter_process = np.zeros((self.N_regions, self.N_regions), dtype=np.int)\n",
    "        \n",
    "        for x, y in zip(self.idx_x, self.idx_y):\n",
    "            # fetch then remove the last element\n",
    "            enter_process[x, y] = self.path_nor[x][y].pop()\n",
    "            # update paths\n",
    "            self.path_nor[x][y].insert(0, exit_process[x, y])\n",
    "\n",
    "        # update regions \n",
    "        self.nor = exit_process[np.nonzero(np.eye(self.N_regions))] + np.sum(enter_process, axis = 0)\n",
    "        \n",
    "    def normal_alpha_syn_growth_edge(self):\n",
    "        \"\"\"proteins are moving contiously in edges\"\"\"\n",
    "        \n",
    "        # exit regions:\n",
    "        exit_process = np.array([ np.random.multinomial(self.nor[k], self.weights_euler[k]) \n",
    "                                 for k in range(self.N_regions)], dtype = np.int) \n",
    "        exit_process[np.eye(self.N_regions)==1] = 0 # remove diag\n",
    "        \n",
    "        # enter regions:\n",
    "        enter_process = np.zeros((self.N_regions, self.N_regions), dtype = np.int)\n",
    "        \n",
    "        for x, y in zip(self.idx_x, self.idx_y):\n",
    "            enter_process[x, y] = np.sum(np.random.uniform(0, 1, (self.path_nor_cont[x, y], )) < self.prob_exit[x, y]*self.dt)\n",
    "        \n",
    "        # update:\n",
    "        self.path_nor_cont += (exit_process - enter_process)        \n",
    "        self.nor += (np.sum(enter_process, axis = 0) - np.sum(exit_process, axis=1) )\n",
    "        \n",
    "        \n",
    "    def inject_mis(self, seed=42, initial_number=1):\n",
    "        \n",
    "        \"\"\"inject initual_number misfolded protein into seed region\"\"\"\n",
    "        # initial_number must be an interger\n",
    "        self.mis[seed] = initial_number\n",
    "        #print('inject %d misfolded alpha-syn into region %d' % (initial_number, seed))\n",
    "        \n",
    "    \n",
    "    def misfolded_alpha_syn_spread_edge_discrete(self):\n",
    "        \"\"\" step in paths for normal and misfolded alpha syn\"\"\"\n",
    "        \n",
    "        ############## misfolded alpha synuclein ###########\n",
    "        # exit regions\n",
    "        exit_process = np.array([ np.random.multinomial(v, self.weights[k]) \n",
    "                                 for k, v in enumerate(self.mis)], dtype = np.int)\n",
    "        # alpha syn -- from path to region\n",
    "        # enter region\n",
    "        enter_process = np.zeros((self.N_regions, self.N_regions), dtype = np.int)\n",
    "        for x, y in zip(self.idx_x, self.idx_y):\n",
    "            # fetch then remove the last element\n",
    "            enter_process[x, y] = self.path_mis[x][y].pop()\n",
    "            # update paths\n",
    "            self.path_mis[x][y].insert(0, exit_process[x, y])\n",
    "\n",
    "        # update regions \n",
    "        self.mis = exit_process[np.nonzero(np.eye(self.N_regions))] + np.sum(enter_process, axis = 0)\n",
    "        \n",
    "        ########### for the normal alpha syuclein ###########\n",
    "        exit_process = np.array([ np.random.multinomial(self.nor[k], self.weights[k]) \n",
    "                                 for k in range(self.N_regions)], dtype = np.int)\n",
    "        \n",
    "        # alpha syn -- from path to region\n",
    "        # enter region\n",
    "        enter_process = np.zeros((self.N_regions, self.N_regions), dtype=np.int)\n",
    "        \n",
    "        for x, y in zip(self.idx_x, self.idx_y):\n",
    "            # fetch then remove the last element\n",
    "            enter_process[x, y] = self.path_nor[x][y].pop()\n",
    "            # update paths\n",
    "            self.path_nor[x][y].insert(0, exit_process[x, y])\n",
    "\n",
    "        # update regions \n",
    "        self.nor = exit_process[np.nonzero(np.eye(self.N_regions))] + np.sum(enter_process, axis = 0)\n",
    "        \n",
    "    def misfolded_alpha_syn_spread_edge(self):\n",
    "        \"\"\"proteins are moving continously\"\"\"\n",
    "        ##### misfolded alpha synuclein #####\n",
    "        exit_process = np.array([ np.random.multinomial(v, self.weights_euler[k]) \n",
    "                                 for k, v in enumerate(self.mis)], dtype = np.int) \n",
    "        exit_process[np.eye(self.N_regions)==1] = 0\n",
    "        \n",
    "        enter_process = np.zeros((self.N_regions, self.N_regions), dtype = np.int)\n",
    "        # enter regions:\n",
    "        for x, y in zip(self.idx_x, self.idx_y):\n",
    "            enter_process[x, y] = np.sum(np.random.uniform(0, 1, (self.path_mis_cont[x, y], ))< self.prob_exit[x, y] * self.dt)\n",
    "        \n",
    "        # update\n",
    "        self.path_mis_cont += (exit_process - enter_process)\n",
    "        self.mis +=  (np.sum(enter_process, axis = 0) - np.sum(exit_process, axis = 1) )\n",
    "        \n",
    "        ####### normal alpha synuclein #######\n",
    "        # exit regions:\n",
    "        exit_process = np.array([ np.random.multinomial(self.nor[k], self.weights_euler[k]) \n",
    "                                 for k in range(self.N_regions)], dtype = np.int) * self.dt\n",
    "        exit_process[np.eye(self.N_regions)==1] = 0\n",
    "        \n",
    "        # enter regions:\n",
    "        enter_process = np.zeros((self.N_regions, self.N_regions), dtype = np.int)\n",
    "        for x, y in zip(self.idx_x, self.idx_y):\n",
    "            enter_process[x, y] = np.sum(np.random.uniform(0, 1, (self.path_nor_cont[x, y], ) ) < self.prob_exit[x, y]*self.dt)\n",
    "            \n",
    "        # update:\n",
    "        self.path_nor_cont += (exit_process - enter_process)\n",
    "        self.nor += (np.sum(enter_process, axis = 0) - np.sum(exit_process, axis=1) )\n",
    "        \n",
    "    def misfolded_alpha_syn_spread_region(self, trans_rate=1):\n",
    "        \"\"\"clearance and synthesis of normal/misfolded alpha-syn/ transsmssion process in regions\"\"\"\n",
    "        ## clearance\n",
    "        cleared_nor = np.array([np.sum(np.random.uniform(0, 1, (v, )) < k) \n",
    "                             for k, v in zip(self.clearance_rate, self.nor)])\n",
    "        \n",
    "        cleared_mis = np.array([np.sum(np.random.uniform(0, 1, (v, )) < k) \n",
    "                             for k, v in zip(self.clearance_rate, self.mis)])\n",
    "        \n",
    "        self.prob_infected = 1 - np.exp(- (self.dt * self.mis * trans_rate / (self.roi_size)) )\n",
    "        # the remaining after clearance\n",
    "        self.nor -= cleared_nor\n",
    "        self.mis -= cleared_mis\n",
    "        #self.prob_infected = 1 - np.exp(- (self.mis / self.roi_size) )\n",
    "        infected_nor = np.array([np.sum(np.random.uniform(0, 1, (v, )) < k) \n",
    "                             for k, v in zip(self.prob_infected, self.nor)])\n",
    "        # update self.nor and self.mis\n",
    "        self.nor += (np.array([np.sum(np.random.uniform(0, 1, (v, )) < k) \n",
    "                              for k, v in zip(self.synthesis_rate, self.roi_size)]) - infected_nor)\n",
    "        self.mis += infected_nor \n",
    "        \n",
    "        #print(self.mis)\n",
    "        \n",
    "    def transmission_path(self, trans_rate_path):\n",
    "        \n",
    "        \"\"\"transmission process in path (default shut down)\"\"\"\n",
    "        for x, y, v in zip(self.idx_x, self.idx_y, self.non_zero_lengths):\n",
    "            ### perhaps trans_rate_path should be set to 1/v ?\n",
    "            # transmission rate is scaled by exp(distance) in voxel space\n",
    "            path_nor_temp = np.array(self.path_nor[x][y])\n",
    "            path_mis_temp = np.array(self.path_mis[x][y])\n",
    "            rate_get_infected = (path_mis_temp * trans_rate_path) / np.exp(np.absolute(np.arange(v) - np.arange(v)[np.newaxis].T) )\n",
    "            prob_get_infected = 1 - np.exp(np.sum(-rate_get_infected, axis = 1))\n",
    "            infected_path = np.array([np.sum(np.random.uniform(0, 1, (k, ))<v) for \n",
    "                                      k, v in zip(self.path_nor[x][y], prob_get_infected)])\n",
    "            \n",
    "            # update self.path_nor and self.path_mis\n",
    "            path_nor_temp -= infected_path\n",
    "            path_mis_temp += infected_path\n",
    "            \n",
    "            self.path_nor[x][y] = path_nor_temp.tolist()\n",
    "            self.path_mis[x][y] = path_mis_temp.tolist()\n",
    "            \n",
    "        \n",
    "    def record_to_history_discrete(self):\n",
    "        \"\"\"record the results of each step into the recorder\"\"\"\n",
    "        self.nor_history = np.append(self.nor_history, self.nor[np.newaxis], axis = 0)\n",
    "        self.mis_history = np.append(self.mis_history, self.mis[np.newaxis], axis = 0)\n",
    "        \n",
    "        # record the mobility patterns in edges\n",
    "        #self.path_nor_history.append(self.path_nor)\n",
    "        #self.path_mis_history.append(self.path_mis)\n",
    "        \n",
    "    def record_to_history_continous(self):\n",
    "        \"\"\"record the results of each step\"\"\"\n",
    "        self.nor_history = np.append(self.nor_history, self.nor[np.newaxis], axis = 0)\n",
    "        self.mis_history = np.append(self.mis_history, self.mis[np.newaxis], axis = 0)\n",
    "        \n",
    "        # record the mobility patterns in edges\n",
    "        #self.path_nor_cont_history = np.append(self.path_nor_cont_history, self.path_nor_cont.reshape(1, 42, 42), axis = 0)\n",
    "        #self.path_mis_cont_history = np.append(self.path_mis_cont_history, self.path_mis_cont.reshape(1, 42, 42), axis = 0)\n",
    "        "
   ]
  },
  {
   "cell_type": "code",
   "execution_count": null,
   "metadata": {},
   "outputs": [],
   "source": [
    "class SIR_model:\n",
    "    \"\"\"An SIR model to simulate the spread of alpha-syn\"\"\"\n",
    "    \n",
    "    # constructor\n",
    "    def __init__(self, v=1 , N_regions=42, dt=0.01, sconn_len=None, sconn_den=None, snca=None, gba=None, roi_size=None, fconn=None, fcscale=None):\n",
    "        \n",
    "        # number of regions\n",
    "        self.N_regions = N_regions\n",
    "        \n",
    "        # store number of normal and misfolded proteins in regions\n",
    "        self.nor = np.zeros((N_regions, ))\n",
    "        self.mis = np.zeros((N_regions, ))\n",
    "        self.nor_history = np.empty((0, N_regions))\n",
    "        self.mis_history = np.empty((0, N_regions))\n",
    "        \n",
    "        # store number of normal and misfoded proteins in paths\n",
    "        self.path_nor = np.zeros((N_regions, N_regions))\n",
    "        self.path_mis = np.zeros((N_regions, N_regions))\n",
    "        self.path_nor_history = np.empty((0, N_regions, N_regions))\n",
    "        self.path_mis_history = np.empty((0, N_regions, N_regions))\n",
    "        \n",
    "        # index of connected components\n",
    "        (self.idx_x, self.idx_y) = np.nonzero(sconn_len)\n",
    "        self.non_zero_lengths = sconn_len[np.nonzero(sconn_len)]\n",
    "        \n",
    "        # probability of exit a path is set to v/sconn_len\n",
    "        #sconn_len2 = sconn_len.copy()\n",
    "        sconn_len[sconn_len == 0] = np.inf\n",
    "        self.prob_exit = v / sconn_len\n",
    "        self.prob_exit[sconn_len==0] = 0\n",
    "        \n",
    "        # synthesis rate and  clearance rate\n",
    "        self.synthesis_rate = norm.cdf(snca) * self.dt\n",
    "        self.clearance_rate = 1 - np.exp( -norm.cdf(gba) * self.dt)\n",
    "        \n",
    "        # mobility pattern multinomial distribution\n",
    "        self.weights = np.exp(fcscale * fconn) * sconn_den\n",
    "        self.weights = np.diag(np.sum(sconn_den, axis = 1)) + sconn_den\n",
    "        self.weights = self.weights / np.sum(self.weights, axis = 1)[np.newaxis].T\n",
    "        \n",
    "        # region size\n",
    "        self.roi_size = roi_size.flatten() \n",
    "        \n",
    "    def normal_alpha_syn_growth_region(self):\n",
    "        \"\"\"normal alpha-syn growing\"\"\"\n",
    "        self.nor += (self.roi_size * self.synthesis_rate - self.nor * self.clearance_rate)\n",
    "        \n",
    "    def normal_alpha_syn_growth_edge(self):\n",
    "        \n",
    "        # enter paths\n",
    "        enter_process = self.nor.reshape(self.N_regions, 1) * self.weights * self.dt\n",
    "        enter_process[np.eye(self.N_regions)==1] = 0 # remove diag\n",
    "        \n",
    "        # exit paths\n",
    "        exit_process = self.path_nor * self.prob_exit * self.dt\n",
    "        \n",
    "        # update paths and regions  \n",
    "        self.nor += (np.sum(exit_process, axis = 0) - np.sum(enter_process, axis = 1) )\n",
    "        self.path_nor += (enter_process - exit_process)        \n",
    "        \n",
    "    def inject_mis(self, seed=41, initial_number=1):\n",
    "        \"\"\"inject misfolded alpha-syn in seed region\"\"\"\n",
    "        \n",
    "        self.mis[seed] = initial_number\n",
    "        #print('inject %d misfolded alpha-syn into region %d' % (initial_number, seed))\n",
    "        \n",
    "    def misfolded_alpha_syn_spread_edge(self):\n",
    "        ##### misfolded alpha-syn\n",
    "        # enter paths\n",
    "        enter_process = self.mis.reshape(self.N_regions, 1) * self.weights * self.dt\n",
    "        enter_process[np.eye(self.N_regions)==1] = 0 # remove diag\n",
    "        \n",
    "        # exit paths\n",
    "        exit_process = self.path_mis * self.prob_exit\n",
    "        \n",
    "        # update paths and regions \n",
    "        self.mis += (-np.sum(enter_process, axis=1) + np.sum(exit_process, axis = 0))\n",
    "        self.path_mis += (enter_process - exit_process)\n",
    "        \n",
    "        ###### normal alpha-syn\n",
    "        # enter paths\n",
    "        enter_process = self.nor.reshape(self.N_regions, 1) * self.weights * self.dt\n",
    "        enter_process[np.eye(self.N_regions)==1] = 0 # remove diag\n",
    "        \n",
    "        # exit paths\n",
    "        exit_process = self.path_nor * self.prob_exit * self.dt\n",
    "        \n",
    "        # update paths and regions  \n",
    "        self.nor += (np.sum(exit_process, axis = 0) - np.sum(enter_process, axis = 1) )\n",
    "        self.path_nor += (enter_process - exit_process)\n",
    "        \n",
    "    def misfolded_alpha_syn_spread_region(self, trans_rate=1):\n",
    "        '\"\"\"the transmission process inside regions\"\"\"'\n",
    "        \n",
    "        prob_get_infected = 1 - np.exp(-self.mis * trans_rate * self.dt / self.roi_size)\n",
    "        # clear process\n",
    "        self.nor -= self.nor * self.clearance_rate\n",
    "        self.mis -= self.mis * self.clearance_rate\n",
    "        \n",
    "        infected = self.nor * prob_get_infected\n",
    "        self.nor += (self.roi_size * self.synthesis_rate - infected)\n",
    "        self.mis += (infected)\n",
    "        \n",
    "    def transmission_path(self):\n",
    "        \n",
    "        \"\"\"the transmission process in paths\"\"\" \n",
    "        pass\n",
    "    \n",
    "    def record_to_history(self):\n",
    "        \"\"\"record the results\"\"\"\n",
    "        self.nor_history = np.append(self.nor_history, self.nor[np.newaxis], axis = 0)\n",
    "        self.mis_history = np.append(self.mis_history, self.mis[np.newaxis], axis = 0)\n",
    "        \n",
    "        self.path_nor_history = np.append(self.path_nor_history, \n",
    "                                          self.path_nor.reshape(1, self.N_regions, self.N_regions), axis = 0)\n",
    "        self.path_mis_history = np.append(self.path_mis_history, \n",
    "                                          self.path_mis.reshape(1, self.N_regions, self.N_regions), axis = 0)\n",
    "        \n",
    "        "
   ]
  },
  {
   "cell_type": "code",
   "execution_count": 5,
   "metadata": {
    "collapsed": true
   },
   "outputs": [],
   "source": [
    "import pandas as pd\n",
    "import matplotlib.pyplot as plt\n",
    "from scipy.io import loadmat\n",
    "from scipy.stats.stats import zscore,pearsonr"
   ]
  },
  {
   "cell_type": "code",
   "execution_count": 61,
   "metadata": {},
   "outputs": [],
   "source": [
    "para = loadmat('/Users/yingqiuzheng/Desktop/Research/PD/Lh/DTIseeds/Resol1/parameters_final_normalized.mat')"
   ]
  },
  {
   "cell_type": "code",
   "execution_count": 62,
   "metadata": {
    "collapsed": true
   },
   "outputs": [],
   "source": [
    "sconn_len = np.array(para['sc_len_total'])\n",
    "sconn_den = np.array(para['sc_ncount_n_total'])\n",
    "roi_size = np.array(para['ROIsize'])\n",
    "gba = para['GBA']\n",
    "snca = para['SNCA']\n",
    "real_atrophy = para['real_atrophy']"
   ]
  },
  {
   "cell_type": "code",
   "execution_count": 63,
   "metadata": {},
   "outputs": [],
   "source": [
    "ref_model = agent_based_model(v=1 , N_regions=42, dt=0.01, sconn_len=sconn_len, sconn_den=sconn_den, snca=snca.flatten(), gba=gba.flatten(), roi_size=roi_size.flatten(), fconn=np.zeros((42, 42)), fcscale=0)"
   ]
  },
  {
   "cell_type": "code",
   "execution_count": 65,
   "metadata": {
    "scrolled": true
   },
   "outputs": [
    {
     "name": "stdout",
     "output_type": "stream",
     "text": [
      "[ 7682  4857  2783  5198  5175  5887 16196 21399  7688 12522  4378  3430\n",
      "  2770  4571  4076 10303 13225 14802 15725  9916  7372  9737 10985  9290\n",
      " 10539  3716  3312  3569 12183 14465  8838 16176  4443  8924  1193  4474\n",
      "  6911  2153  2522  4405  5355  1100]\n",
      "[ 7697  4850  2781  5212  5165  5866 16189 21369  7700 12499  4383  3428\n",
      "  2770  4573  4070 10318 13235 14805 15727  9907  7354  9736 10978  9279\n",
      " 10588  3725  3308  3564 12206 14475  8830 16175  4431  8924  1192  4491\n",
      "  6921  2158  2530  4414  5365  1098]\n",
      "[ 7680  4841  2787  5204  5159  5851 16195 21369  7706 12518  4387  3421\n",
      "  2753  4583  4071 10316 13224 14813 15733  9906  7350  9724 10984  9272\n",
      " 10578  3729  3298  3565 12184 14486  8827 16169  4437  8936  1179  4496\n",
      "  6907  2152  2529  4404  5373  1097]\n",
      "[ 7669  4841  2791  5189  5149  5873 16207 21347  7695 12524  4375  3422\n",
      "  2736  4596  4080 10314 13232 14817 15721  9910  7354  9723 11021  9268\n",
      " 10589  3720  3305  3560 12208 14509  8847 16165  4437  8943  1176  4481\n",
      "  6907  2166  2528  4390  5373  1099]\n",
      "[ 7670  4840  2802  5165  5138  5894 16183 21361  7698 12514  4375  3414\n",
      "  2716  4596  4088 10322 13265 14798 15706  9910  7353  9727 11038  9260\n",
      " 10561  3722  3309  3550 12231 14478  8834 16177  4438  8946  1174  4495\n",
      "  6917  2156  2528  4403  5370  1105]\n",
      "[ 7671  4850  2813  5180  5146  5892 16179 21329  7704 12518  4369  3425\n",
      "  2714  4597  4070 10309 13274 14789 15680  9935  7352  9727 11016  9267\n",
      " 10568  3733  3307  3535 12227 14482  8831 16153  4445  8957  1171  4501\n",
      "  6917  2153  2540  4415  5376  1109]\n",
      "[ 7649  4847  2798  5183  5147  5874 16209 21337  7712 12499  4361  3408\n",
      "  2710  4601  4077 10326 13239 14786 15669  9937  7352  9735 11023  9269\n",
      " 10550  3721  3305  3517 12242 14451  8824 16168  4458  8971  1175  4494\n",
      "  6915  2147  2541  4396  5375  1109]\n",
      "[ 7658  4835  2795  5189  5148  5861 16202 21320  7732 12502  4363  3406\n",
      "  2703  4597  4069 10306 13227 14779 15675  9950  7358  9752 11039  9275\n",
      " 10547  3729  3318  3507 12238 14432  8835 16164  4447  8955  1172  4497\n",
      "  6918  2149  2533  4395  5385  1098]\n",
      "[ 7642  4850  2792  5196  5148  5873 16227 21292  7701 12508  4385  3405\n",
      "  2704  4592  4073 10301 13209 14787 15678  9957  7356  9741 11044  9278\n",
      " 10538  3727  3315  3494 12225 14439  8830 16130  4449  8937  1171  4497\n",
      "  6917  2147  2535  4382  5388  1105]\n",
      "[ 7650  4849  2795  5199  5132  5886 16219 21331  7683 12511  4389  3404\n",
      "  2696  4609  4064 10326 13208 14777 15681  9976  7359  9731 11038  9278\n",
      " 10561  3736  3320  3509 12222 14449  8846 16149  4444  8963  1167  4501\n",
      "  6910  2152  2540  4368  5389  1106]\n",
      "[ 7667  4837  2789  5241  5123  5880 16223 21321  7700 12533  4398  3387\n",
      "  2686  4612  4057 10305 13207 14801 15671  9977  7370  9731 11041  9270\n",
      " 10557  3731  3321  3498 12228 14440  8843 16144  4440  8973  1167  4500\n",
      "  6901  2159  2540  4384  5389  1110]\n",
      "[ 7658  4852  2795  5240  5135  5903 16203 21308  7691 12555  4405  3391\n",
      "  2691  4617  4048 10314 13209 14809 15688 10004  7369  9731 11045  9261\n",
      " 10547  3717  3336  3512 12224 14462  8840 16166  4432  8964  1164  4507\n",
      "  6906  2164  2537  4384  5382  1115]\n",
      "[ 7666  4875  2803  5230  5131  5905 16211 21331  7667 12571  4397  3377\n",
      "  2688  4611  4050 10310 13211 14813 15691  9986  7381  9734 11058  9264\n",
      " 10547  3716  3316  3517 12200 14466  8814 16159  4432  8974  1170  4509\n",
      "  6910  2164  2539  4390  5391  1117]\n",
      "[ 7678  4873  2795  5219  5133  5911 16225 21334  7672 12554  4383  3364\n",
      "  2685  4625  4041 10316 13216 14823 15694  9985  7385  9738 11069  9266\n",
      " 10512  3728  3319  3511 12202 14461  8792 16169  4433  8932  1165  4497\n",
      "  6917  2156  2537  4403  5391  1117]\n",
      "[ 7664  4865  2797  5230  5111  5909 16196 21323  7682 12537  4395  3348\n",
      "  2682  4620  4051 10310 13233 14849 15660 10002  7372  9736 11078  9276\n",
      " 10521  3721  3311  3510 12203 14447  8774 16154  4434  8929  1170  4503\n",
      "  6908  2157  2535  4407  5399  1124]\n",
      "[ 7641  4859  2798  5247  5096  5920 16166 21334  7676 12526  4386  3355\n",
      "  2696  4606  4046 10309 13234 14845 15662 10007  7369  9727 11085  9285\n",
      " 10523  3717  3328  3505 12206 14429  8784 16138  4429  8930  1163  4506\n",
      "  6923  2164  2536  4408  5397  1127]\n",
      "[ 7656  4856  2792  5256  5092  5926 16140 21356  7676 12522  4386  3342\n",
      "  2693  4599  4060 10323 13247 14856 15637  9990  7370  9738 11085  9285\n",
      " 10501  3738  3343  3509 12179 14418  8787 16174  4425  8942  1156  4507\n",
      "  6923  2164  2532  4412  5395  1121]\n",
      "[ 7640  4849  2796  5249  5088  5927 16150 21391  7652 12499  4409  3366\n",
      "  2693  4597  4072 10338 13263 14849 15600  9985  7363  9740 11093  9295\n",
      " 10502  3761  3347  3516 12172 14386  8784 16187  4425  8962  1155  4497\n",
      "  6925  2163  2530  4399  5391  1123]\n",
      "[ 7650  4852  2805  5258  5100  5926 16141 21378  7643 12479  4411  3373\n",
      "  2700  4609  4072 10354 13269 14823 15617  9984  7369  9737 11070  9302\n",
      " 10534  3759  3347  3510 12175 14368  8794 16201  4442  8963  1164  4501\n",
      "  6932  2163  2524  4394  5400  1127]\n",
      "[ 7664  4862  2805  5255  5103  5923 16168 21408  7613 12492  4436  3363\n",
      "  2708  4591  4078 10363 13263 14816 15595  9987  7382  9737 11074  9315\n",
      " 10570  3765  3343  3503 12179 14346  8789 16196  4450  8972  1166  4496\n",
      "  6945  2163  2525  4399  5403  1127]\n",
      "[ 7657  4864  2802  5259  5087  5912 16170 21376  7609 12469  4434  3355\n",
      "  2722  4575  4078 10384 13261 14783 15574 10001  7396  9743 11085  9309\n",
      " 10573  3760  3339  3505 12191 14331  8776 16192  4439  8975  1167  4487\n",
      "  6948  2168  2517  4389  5396  1126]\n",
      "[ 7644  4858  2804  5242  5088  5894 16180 21361  7606 12467  4439  3360\n",
      "  2730  4568  4097 10385 13258 14798 15551 10019  7389  9744 11080  9320\n",
      " 10586  3768  3342  3490 12204 14343  8766 16235  4440  8985  1167  4504\n",
      "  6943  2163  2509  4389  5400  1126]\n",
      "[ 7665  4857  2808  5247  5061  5899 16187 21379  7597 12476  4432  3360\n",
      "  2733  4591  4097 10389 13287 14808 15547 10028  7391  9746 11090  9318\n",
      " 10601  3782  3357  3495 12196 14339  8783 16237  4438  9005  1171  4504\n",
      "  6936  2171  2511  4382  5387  1120]\n",
      "[ 7668  4854  2814  5254  5049  5899 16203 21408  7589 12471  4419  3386\n",
      "  2736  4596  4101 10359 13272 14795 15542 10036  7401  9741 11107  9327\n",
      " 10613  3782  3370  3495 12211 14340  8788 16262  4448  9011  1179  4504\n",
      "  6941  2175  2513  4385  5389  1125]\n",
      "[ 7649  4847  2825  5242  5071  5902 16183 21415  7592 12481  4400  3381\n",
      "  2723  4583  4102 10383 13285 14790 15539 10018  7415  9748 11113  9340\n",
      " 10618  3775  3362  3495 12206 14332  8801 16240  4452  9032  1187  4512\n",
      "  6946  2171  2504  4384  5396  1118]\n",
      "[ 7639  4860  2833  5254  5046  5908 16161 21418  7602 12481  4387  3386\n",
      "  2720  4568  4109 10380 13293 14802 15532 10025  7407  9750 11095  9347\n",
      " 10617  3782  3374  3494 12185 14308  8803 16265  4448  9051  1191  4508\n",
      "  6945  2170  2508  4390  5415  1111]\n",
      "[ 7641  4861  2831  5263  5042  5898 16151 21381  7589 12468  4398  3374\n",
      "  2731  4565  4106 10380 13280 14806 15531 10003  7398  9740 11105  9346\n",
      " 10593  3771  3371  3499 12187 14287  8799 16231  4456  9047  1188  4516\n",
      "  6941  2168  2509  4393  5418  1115]\n",
      "[ 7631  4849  2824  5259  5014  5893 16183 21402  7578 12485  4401  3391\n",
      "  2734  4575  4100 10382 13286 14816 15549  9987  7408  9749 11118  9343\n",
      " 10589  3765  3368  3474 12179 14316  8817 16225  4448  9040  1191  4520\n",
      "  6930  2172  2507  4387  5411  1113]\n",
      "[ 7632  4855  2823  5265  5009  5888 16194 21400  7572 12495  4395  3378\n",
      "  2726  4569  4102 10382 13275 14822 15545  9980  7414  9742 11100  9330\n",
      " 10575  3777  3377  3476 12156 14337  8824 16228  4438  9040  1192  4523\n",
      "  6930  2177  2509  4384  5411  1107]\n",
      "[ 7608  4859  2821  5268  5018  5894 16186 21390  7577 12502  4396  3386\n",
      "  2729  4566  4106 10377 13273 14832 15561  9984  7411  9752 11104  9317\n",
      " 10577  3766  3372  3483 12161 14346  8832 16217  4447  9022  1182  4527\n",
      "  6927  2173  2507  4389  5410  1109]\n",
      "[ 7609  4863  2829  5267  5016  5872 16217 21362  7582 12489  4395  3375\n",
      "  2735  4570  4098 10365 13272 14830 15543  9960  7411  9765 11140  9314\n",
      " 10572  3768  3374  3486 12168 14385  8837 16229  4453  9032  1184  4512\n",
      "  6941  2177  2500  4389  5407  1100]\n",
      "[ 7599  4844  2832  5264  5017  5874 16189 21368  7561 12480  4397  3395\n",
      "  2750  4573  4106 10367 13255 14816 15555  9940  7435  9769 11155  9313\n",
      " 10552  3781  3379  3469 12156 14380  8852 16242  4451  9041  1181  4513\n",
      "  6934  2176  2508  4382  5399  1110]\n"
     ]
    },
    {
     "name": "stdout",
     "output_type": "stream",
     "text": [
      "[ 7609  4843  2825  5260  5013  5874 16177 21370  7569 12486  4389  3403\n",
      "  2759  4567  4114 10361 13283 14826 15545  9964  7437  9770 11157  9319\n",
      " 10561  3781  3394  3470 12170 14395  8871 16226  4452  9063  1187  4510\n",
      "  6925  2177  2502  4379  5406  1107]\n",
      "[ 7601  4856  2810  5273  5015  5874 16191 21369  7569 12458  4408  3381\n",
      "  2750  4569  4125 10360 13260 14833 15561  9963  7425  9761 11147  9313\n",
      " 10586  3759  3408  3476 12180 14384  8889 16207  4449  9077  1187  4515\n",
      "  6949  2185  2500  4382  5394  1101]\n",
      "[ 7569  4852  2796  5289  5005  5877 16185 21347  7568 12471  4412  3370\n",
      "  2740  4571  4128 10376 13253 14845 15560  9975  7423  9760 11136  9288\n",
      " 10581  3760  3391  3457 12156 14381  8877 16238  4459  9088  1191  4521\n",
      "  6949  2179  2493  4380  5381  1097]\n",
      "[ 7574  4860  2796  5282  4967  5866 16239 21293  7571 12454  4395  3363\n",
      "  2730  4587  4120 10381 13264 14851 15579  9979  7419  9782 11150  9301\n",
      " 10610  3759  3395  3463 12168 14398  8891 16228  4465  9084  1202  4526\n",
      "  6958  2169  2495  4370  5387  1100]\n",
      "[ 7583  4845  2799  5280  4968  5857 16244 21298  7564 12463  4393  3390\n",
      "  2726  4586  4116 10384 13285 14841 15581  9984  7413  9778 11154  9303\n",
      " 10620  3743  3406  3453 12167 14405  8883 16224  4455  9061  1197  4542\n",
      "  6973  2169  2492  4356  5398  1101]\n",
      "[ 7586  4859  2800  5289  4962  5850 16234 21307  7570 12456  4391  3382\n",
      "  2721  4567  4111 10400 13287 14822 15622 10000  7416  9777 11144  9311\n",
      " 10636  3736  3394  3454 12172 14426  8877 16207  4445  9078  1204  4538\n",
      "  6981  2162  2489  4354  5409  1108]\n",
      "[ 7582  4869  2809  5280  4955  5859 16245 21285  7570 12437  4384  3381\n",
      "  2719  4566  4114 10435 13277 14784 15636 10003  7405  9788 11146  9298\n",
      " 10649  3740  3400  3471 12167 14392  8868 16192  4441  9080  1200  4542\n",
      "  6974  2171  2488  4337  5411  1112]\n",
      "[ 7608  4874  2820  5274  4940  5863 16234 21276  7596 12426  4384  3391\n",
      "  2717  4568  4106 10455 13250 14770 15633 10021  7414  9799 11137  9312\n",
      " 10651  3724  3394  3467 12163 14395  8856 16164  4440  9062  1196  4537\n",
      "  6980  2169  2485  4327  5419  1119]\n",
      "[ 7626  4883  2822  5283  4940  5874 16267 21260  7574 12392  4370  3379\n",
      "  2714  4591  4116 10442 13265 14748 15647 10019  7416  9779 11133  9316\n",
      " 10677  3730  3397  3470 12165 14363  8858 16139  4436  9054  1202  4537\n",
      "  6984  2171  2480  4332  5413  1129]\n",
      "[ 7612  4877  2825  5263  4944  5875 16280 21254  7563 12396  4367  3380\n",
      "  2719  4600  4118 10462 13254 14743 15630 10006  7415  9767 11141  9314\n",
      " 10690  3757  3398  3461 12183 14335  8865 16151  4435  9028  1193  4536\n",
      "  6986  2187  2483  4321  5419  1123]\n",
      "[ 7616  4887  2821  5250  4944  5874 16263 21269  7536 12404  4358  3387\n",
      "  2722  4604  4133 10449 13224 14759 15660  9985  7412  9762 11138  9303\n",
      " 10682  3753  3400  3443 12175 14339  8862 16133  4439  9027  1196  4541\n",
      "  7001  2180  2485  4326  5413  1128]\n",
      "[ 7600  4891  2818  5270  4951  5850 16297 21259  7555 12430  4371  3395\n",
      "  2709  4607  4140 10441 13225 14743 15652  9991  7410  9762 11110  9293\n",
      " 10689  3761  3402  3457 12205 14332  8870 16166  4440  9043  1187  4545\n",
      "  7011  2182  2483  4327  5410  1122]\n",
      "[ 7598  4885  2837  5265  4946  5855 16306 21259  7536 12452  4370  3404\n",
      "  2704  4606  4141 10450 13193 14733 15619 10008  7416  9759 11121  9305\n",
      " 10706  3758  3397  3444 12195 14318  8870 16166  4442  9047  1180  4539\n",
      "  7030  2173  2484  4325  5415  1114]\n",
      "[ 7588  4877  2820  5274  4954  5831 16294 21276  7518 12438  4365  3379\n",
      "  2690  4597  4129 10440 13165 14758 15590 10017  7433  9781 11110  9294\n",
      " 10732  3753  3400  3446 12199 14353  8862 16176  4439  9044  1180  4533\n",
      "  7013  2169  2488  4322  5421  1104]\n",
      "[ 7571  4873  2807  5264  4964  5843 16322 21271  7536 12437  4363  3372\n",
      "  2679  4603  4127 10415 13186 14770 15596 10014  7433  9789 11103  9284\n",
      " 10735  3757  3402  3473 12189 14350  8875 16221  4435  9042  1185  4542\n",
      "  7026  2174  2490  4311  5434  1101]\n",
      "[ 7588  4884  2798  5286  4956  5844 16320 21274  7538 12445  4368  3356\n",
      "  2689  4610  4135 10411 13165 14810 15619 10030  7447  9799 11123  9275\n",
      " 10743  3764  3403  3462 12211 14308  8876 16243  4429  9049  1194  4537\n",
      "  7051  2180  2492  4302  5432  1096]\n",
      "[ 7586  4894  2797  5294  4966  5844 16326 21274  7534 12446  4367  3363\n",
      "  2694  4602  4140 10405 13173 14797 15627 10033  7458  9808 11130  9279\n",
      " 10774  3763  3404  3452 12218 14294  8873 16258  4447  9045  1195  4534\n",
      "  7046  2181  2493  4284  5415  1097]\n",
      "[ 7588  4895  2798  5302  4983  5856 16365 21232  7556 12444  4369  3372\n",
      "  2707  4604  4128 10408 13153 14827 15643 10045  7454  9806 11113  9269\n",
      " 10746  3769  3406  3450 12230 14293  8877 16269  4443  9039  1196  4524\n",
      "  7046  2171  2498  4289  5407  1100]\n",
      "[ 7618  4885  2790  5301  4965  5860 16359 21235  7542 12451  4369  3370\n",
      "  2717  4586  4122 10415 13151 14833 15631 10026  7452  9815 11109  9266\n",
      " 10738  3780  3404  3447 12236 14284  8867 16244  4446  9052  1195  4524\n",
      "  7046  2174  2498  4289  5399  1105]\n",
      "[ 7627  4886  2787  5296  4941  5873 16332 21257  7538 12429  4363  3377\n",
      "  2713  4584  4125 10416 13140 14807 15632 10023  7444  9805 11112  9241\n",
      " 10741  3784  3405  3442 12260 14253  8874 16243  4453  9064  1200  4520\n",
      "  7056  2185  2491  4286  5395  1098]\n",
      "[ 7644  4886  2779  5292  4918  5852 16315 21244  7535 12441  4360  3389\n",
      "  2712  4578  4104 10401 13159 14838 15631 10013  7443  9813 11111  9256\n",
      " 10737  3788  3400  3443 12252 14265  8878 16240  4465  9057  1195  4516\n",
      "  7064  2168  2493  4281  5379  1105]\n",
      "[ 7642  4895  2770  5283  4933  5841 16301 21246  7549 12464  4370  3395\n",
      "  2713  4573  4104 10415 13146 14847 15630  9998  7461  9822 11117  9244\n",
      " 10744  3790  3392  3432 12239 14293  8877 16227  4483  9055  1200  4509\n",
      "  7081  2162  2498  4285  5377  1108]\n",
      "[ 7674  4887  2775  5286  4940  5828 16285 21270  7565 12483  4365  3398\n",
      "  2713  4568  4105 10426 13138 14848 15643  9987  7456  9814 11102  9244\n",
      " 10760  3787  3390  3445 12257 14307  8876 16236  4482  9045  1207  4529\n",
      "  7082  2173  2501  4278  5368  1105]\n",
      "[ 7677  4881  2775  5285  4961  5818 16279 21233  7565 12480  4356  3399\n",
      "  2725  4575  4101 10431 13138 14845 15647  9978  7469  9823 11093  9228\n",
      " 10773  3778  3384  3437 12256 14324  8886 16251  4497  9041  1206  4531\n",
      "  7082  2175  2499  4273  5366  1103]\n",
      "[ 7671  4875  2762  5286  4951  5815 16273 21252  7579 12481  4368  3395\n",
      "  2728  4558  4104 10441 13132 14851 15622  9993  7477  9806 11079  9225\n",
      " 10799  3775  3373  3438 12258 14353  8880 16232  4494  9037  1203  4541\n",
      "  7072  2166  2505  4270  5360  1104]\n",
      "[ 7667  4875  2761  5307  4979  5800 16254 21229  7602 12466  4360  3418\n",
      "  2737  4554  4116 10448 13131 14865 15632  9996  7508  9829 11069  9226\n",
      " 10819  3775  3375  3444 12272 14341  8880 16221  4519  9031  1213  4546\n",
      "  7069  2168  2491  4274  5356  1104]\n",
      "[ 7678  4873  2767  5298  4981  5821 16245 21267  7605 12457  4365  3414\n",
      "  2740  4565  4123 10456 13118 14844 15631  9971  7514  9839 11072  9249\n",
      " 10824  3759  3377  3450 12281 14328  8875 16224  4523  9051  1206  4548\n",
      "  7061  2162  2493  4293  5354  1104]\n",
      "[ 7687  4868  2758  5291  4965  5827 16260 21292  7583 12450  4370  3420\n",
      "  2742  4560  4128 10464 13126 14838 15627  9969  7517  9830 11075  9260\n",
      " 10806  3761  3384  3464 12294 14316  8857 16181  4515  9065  1212  4544\n",
      "  7059  2164  2492  4286  5369  1111]\n",
      "[ 7694  4862  2759  5289  4971  5824 16270 21307  7577 12443  4376  3408\n",
      "  2739  4564  4124 10464 13113 14849 15619  9961  7519  9814 11080  9268\n",
      " 10814  3756  3378  3464 12288 14318  8860 16183  4496  9060  1203  4534\n",
      "  7059  2185  2493  4292  5365  1121]\n",
      "[ 7675  4885  2765  5279  4970  5823 16265 21363  7583 12421  4384  3407\n",
      "  2755  4549  4118 10447 13088 14856 15629  9938  7549  9812 11055  9243\n",
      " 10800  3753  3375  3469 12288 14320  8869 16190  4486  9077  1202  4537\n",
      "  7042  2182  2489  4285  5368  1115]\n",
      "[ 7662  4885  2771  5276  4960  5818 16232 21381  7593 12430  4391  3418\n",
      "  2758  4548  4112 10438 13081 14837 15643  9944  7561  9836 11046  9245\n",
      " 10806  3755  3384  3457 12317 14300  8869 16170  4493  9064  1204  4548\n",
      "  7044  2181  2487  4280  5369  1110]\n",
      "[ 7663  4889  2778  5280  4963  5805 16209 21354  7575 12444  4395  3405\n",
      "  2764  4560  4114 10428 13107 14849 15638  9940  7577  9854 11019  9231\n",
      " 10819  3751  3383  3464 12315 14264  8884 16166  4503  9056  1205  4544\n",
      "  7038  2172  2490  4266  5374  1103]\n"
     ]
    },
    {
     "name": "stdout",
     "output_type": "stream",
     "text": [
      "[ 7676  4883  2782  5291  4958  5814 16184 21354  7567 12428  4399  3409\n",
      "  2754  4549  4134 10401 13089 14820 15626  9923  7581  9858 11003  9239\n",
      " 10808  3751  3390  3471 12301 14268  8890 16163  4495  9073  1203  4547\n",
      "  7035  2179  2487  4271  5375  1101]\n",
      "[ 7680  4887  2775  5288  4980  5811 16218 21349  7573 12454  4408  3407\n",
      "  2756  4564  4144 10433 13109 14852 15613  9925  7581  9856 11006  9223\n",
      " 10798  3763  3392  3464 12301 14274  8916 16167  4503  9063  1199  4548\n",
      "  7037  2175  2492  4270  5379  1112]\n",
      "[ 7656  4886  2779  5285  4973  5831 16220 21345  7580 12439  4407  3382\n",
      "  2761  4571  4147 10447 13094 14866 15640  9914  7585  9853 11000  9241\n",
      " 10805  3771  3399  3459 12305 14284  8903 16179  4516  9067  1196  4552\n",
      "  7042  2182  2497  4272  5379  1118]\n",
      "[ 7656  4884  2785  5288  4979  5827 16232 21303  7560 12451  4422  3393\n",
      "  2762  4554  4155 10449 13102 14864 15647  9914  7578  9847 10991  9256\n",
      " 10804  3773  3406  3460 12322 14286  8893 16154  4524  9081  1192  4553\n",
      "  7030  2187  2490  4279  5380  1105]\n",
      "[ 7659  4880  2786  5288  5006  5838 16246 21306  7538 12420  4424  3395\n",
      "  2758  4564  4154 10452 13111 14859 15642  9931  7582  9834 11007  9246\n",
      " 10827  3763  3407  3458 12348 14296  8886 16173  4530  9085  1197  4545\n",
      "  7023  2178  2501  4270  5388  1105]\n",
      "[ 7661  4893  2794  5291  5014  5851 16273 21310  7554 12436  4414  3408\n",
      "  2756  4574  4149 10450 13112 14856 15651  9938  7570  9837 11019  9237\n",
      " 10816  3755  3409  3460 12338 14280  8884 16153  4523  9093  1203  4554\n",
      "  7030  2171  2508  4267  5384  1103]\n",
      "[ 7677  4909  2796  5298  5007  5862 16296 21315  7559 12440  4429  3419\n",
      "  2754  4575  4158 10434 13101 14856 15655  9942  7575  9835 11016  9245\n",
      " 10809  3753  3409  3465 12345 14303  8895 16148  4515  9103  1202  4560\n",
      "  7032  2159  2510  4275  5387  1103]\n",
      "[ 7676  4898  2808  5300  4999  5862 16303 21260  7563 12462  4422  3423\n",
      "  2743  4570  4168 10429 13131 14862 15669  9942  7566  9847 11021  9232\n",
      " 10810  3756  3412  3466 12346 14291  8884 16183  4519  9099  1195  4555\n",
      "  7035  2147  2510  4275  5401  1107]\n",
      "[ 7661  4913  2803  5294  4999  5847 16314 21234  7579 12460  4426  3425\n",
      "  2733  4568  4173 10456 13101 14840 15680  9950  7571  9840 11007  9233\n",
      " 10808  3747  3401  3476 12332 14275  8884 16193  4516  9097  1197  4558\n",
      "  7042  2148  2506  4279  5399  1102]\n",
      "[ 7645  4922  2810  5311  5011  5852 16304 21258  7593 12480  4410  3414\n",
      "  2725  4566  4173 10450 13089 14831 15668  9959  7576  9856 11014  9227\n",
      " 10818  3752  3407  3473 12337 14254  8867 16234  4513  9086  1196  4560\n",
      "  7027  2149  2513  4289  5396  1102]\n",
      "[ 7619  4909  2816  5279  5018  5872 16300 21239  7579 12505  4405  3426\n",
      "  2722  4574  4179 10431 13084 14821 15654  9951  7576  9848 11020  9226\n",
      " 10792  3763  3420  3493 12325 14227  8882 16214  4522  9077  1200  4558\n",
      "  7034  2146  2524  4288  5402  1107]\n",
      "[ 7596  4911  2818  5279  5028  5880 16273 21238  7583 12527  4427  3399\n",
      "  2717  4578  4186 10439 13095 14850 15630  9937  7561  9847 11027  9210\n",
      " 10795  3759  3411  3496 12334 14194  8873 16213  4520  9068  1205  4545\n",
      "  7037  2144  2532  4290  5408  1104]\n",
      "[ 7565  4899  2826  5273  5023  5872 16247 21210  7585 12526  4416  3404\n",
      "  2719  4596  4190 10401 13080 14842 15648  9937  7571  9844 11028  9208\n",
      " 10776  3756  3410  3492 12321 14209  8877 16209  4500  9062  1210  4548\n",
      "  7045  2135  2540  4283  5414  1113]\n",
      "[ 7566  4907  2826  5267  5016  5865 16273 21220  7587 12525  4428  3411\n",
      "  2723  4595  4171 10419 13093 14848 15634  9931  7564  9836 11030  9202\n",
      " 10750  3748  3418  3511 12318 14210  8853 16188  4516  9063  1203  4546\n",
      "  7048  2141  2545  4280  5408  1121]\n",
      "[ 7583  4903  2818  5247  5026  5880 16283 21191  7598 12506  4418  3423\n",
      "  2733  4583  4154 10421 13098 14855 15643  9934  7574  9815 11031  9197\n",
      " 10744  3748  3423  3503 12329 14191  8862 16215  4506  9092  1208  4540\n",
      "  7045  2141  2545  4294  5405  1115]\n",
      "[ 7596  4904  2813  5257  5048  5879 16280 21180  7613 12525  4427  3418\n",
      "  2722  4581  4162 10452 13127 14830 15666  9925  7559  9817 11049  9207\n",
      " 10717  3757  3419  3502 12299 14185  8884 16206  4510  9081  1207  4543\n",
      "  7048  2137  2554  4292  5394  1116]\n",
      "[ 7616  4889  2813  5253  5048  5858 16295 21159  7625 12505  4417  3421\n",
      "  2713  4582  4170 10468 13167 14827 15659  9941  7567  9821 11062  9211\n",
      " 10709  3759  3417  3484 12293 14183  8884 16206  4523  9080  1203  4534\n",
      "  7048  2136  2554  4279  5393  1107]\n",
      "[ 7636  4899  2824  5238  5042  5869 16345 21180  7628 12507  4422  3400\n",
      "  2715  4581  4176 10471 13142 14810 15668  9938  7582  9822 11057  9217\n",
      " 10692  3759  3436  3489 12304 14172  8884 16215  4536  9098  1206  4540\n",
      "  7067  2140  2558  4272  5385  1115]\n",
      "[ 7627  4895  2827  5243  5051  5868 16343 21191  7615 12522  4424  3410\n",
      "  2711  4575  4186 10450 13147 14821 15712  9913  7561  9824 11086  9199\n",
      " 10704  3742  3442  3504 12305 14193  8873 16190  4537  9084  1206  4551\n",
      "  7063  2139  2557  4259  5382  1117]\n",
      "[ 7637  4879  2833  5239  5046  5856 16313 21188  7627 12527  4420  3414\n",
      "  2704  4571  4177 10447 13148 14832 15718  9925  7562  9832 11081  9196\n",
      " 10705  3739  3453  3509 12275 14203  8859 16180  4528  9058  1203  4549\n",
      "  7042  2137  2558  4276  5395  1117]\n",
      "[ 7630  4873  2832  5262  5052  5879 16300 21176  7606 12555  4435  3412\n",
      "  2710  4564  4178 10435 13143 14828 15706  9903  7528  9821 11090  9197\n",
      " 10701  3746  3460  3518 12239 14228  8848 16150  4521  9062  1204  4553\n",
      "  7042  2130  2559  4276  5398  1118]\n",
      "[ 7638  4872  2835  5254  5054  5894 16304 21134  7611 12562  4443  3419\n",
      "  2709  4570  4176 10456 13150 14827 15740  9898  7535  9834 11107  9199\n",
      " 10721  3748  3468  3513 12231 14239  8856 16178  4531  9065  1204  4546\n",
      "  7048  2108  2557  4277  5403  1117]\n",
      "[ 7637  4880  2842  5255  5047  5921 16348 21184  7595 12571  4453  3417\n",
      "  2709  4568  4169 10452 13159 14816 15737  9926  7528  9847 11102  9194\n",
      " 10713  3750  3467  3508 12252 14248  8854 16146  4526  9068  1200  4548\n",
      "  7059  2109  2568  4272  5393  1124]\n",
      "[ 7657  4877  2836  5241  5055  5913 16339 21193  7575 12546  4460  3398\n",
      "  2693  4562  4182 10443 13150 14844 15718  9935  7531  9840 11112  9192\n",
      " 10692  3742  3476  3487 12264 14269  8859 16159  4507  9077  1203  4554\n",
      "  7049  2117  2562  4269  5394  1133]\n",
      "[ 7657  4875  2840  5238  5059  5904 16381 21191  7577 12554  4458  3403\n",
      "  2687  4566  4177 10458 13135 14827 15720  9934  7538  9849 11117  9193\n",
      " 10686  3746  3467  3488 12275 14254  8866 16184  4514  9112  1200  4562\n",
      "  7047  2104  2557  4274  5390  1123]\n",
      "[ 7667  4878  2841  5228  5066  5924 16351 21167  7581 12533  4477  3401\n",
      "  2695  4575  4165 10468 13150 14821 15728  9933  7529  9862 11121  9181\n",
      " 10694  3744  3469  3481 12285 14246  8869 16171  4533  9102  1201  4569\n",
      "  7034  2119  2558  4277  5389  1123]\n",
      "[ 7654  4893  2836  5230  5078  5914 16347 21221  7582 12541  4468  3404\n",
      "  2692  4576  4159 10485 13130 14793 15727  9929  7522  9870 11105  9184\n",
      " 10684  3738  3459  3494 12301 14268  8871 16198  4530  9129  1206  4578\n",
      "  7026  2114  2558  4287  5394  1117]\n",
      "[ 7660  4891  2850  5226  5053  5918 16354 21229  7562 12534  4457  3409\n",
      "  2701  4596  4144 10489 13140 14808 15736  9919  7520  9869 11086  9198\n",
      " 10690  3736  3463  3497 12307 14269  8857 16214  4518  9131  1212  4576\n",
      "  7030  2114  2565  4284  5394  1111]\n",
      "[ 7653  4883  2845  5219  5061  5916 16358 21254  7572 12521  4455  3408\n",
      "  2697  4589  4146 10484 13149 14820 15750  9909  7517  9889 11085  9190\n",
      " 10685  3747  3464  3487 12304 14297  8840 16221  4518  9110  1218  4565\n",
      "  7034  2115  2566  4286  5397  1116]\n",
      "[ 7662  4893  2842  5218  5046  5906 16371 21232  7579 12540  4477  3404\n",
      "  2704  4578  4150 10472 13144 14796 15737  9907  7518  9895 11093  9180\n",
      " 10692  3756  3459  3503 12292 14290  8859 16212  4512  9089  1223  4573\n",
      "  7020  2120  2564  4288  5401  1119]\n",
      "[ 7659  4899  2838  5223  5042  5908 16385 21240  7595 12543  4466  3412\n",
      "  2731  4563  4158 10484 13152 14790 15765  9907  7526  9896 11081  9201\n",
      " 10715  3760  3463  3522 12279 14297  8881 16218  4511  9097  1225  4563\n",
      "  7019  2136  2559  4273  5407  1123]\n",
      "[ 7631  4905  2831  5225  5043  5902 16347 21242  7602 12524  4463  3423\n",
      "  2739  4555  4166 10474 13146 14773 15762  9888  7522  9901 11098  9208\n",
      " 10717  3757  3461  3520 12296 14327  8846 16222  4513  9070  1230  4566\n",
      "  7024  2141  2556  4264  5405  1130]\n"
     ]
    },
    {
     "name": "stdout",
     "output_type": "stream",
     "text": [
      "[ 7643  4921  2829  5221  5047  5904 16343 21211  7609 12530  4464  3428\n",
      "  2726  4560  4159 10460 13145 14781 15749  9898  7527  9917 11099  9206\n",
      " 10712  3753  3453  3521 12290 14319  8833 16187  4504  9060  1231  4570\n",
      "  7028  2134  2554  4270  5406  1126]\n",
      "[ 7639  4919  2817  5219  5053  5887 16351 21207  7609 12544  4457  3436\n",
      "  2720  4568  4174 10441 13163 14782 15745  9898  7537  9897 11095  9194\n",
      " 10705  3754  3450  3521 12286 14334  8841 16175  4507  9043  1232  4582\n",
      "  7033  2142  2551  4259  5406  1112]\n",
      "[ 7641  4911  2810  5220  5054  5888 16341 21183  7618 12570  4471  3436\n",
      "  2717  4566  4162 10461 13165 14772 15776  9892  7536  9907 11085  9202\n",
      " 10685  3757  3465  3508 12276 14299  8845 16156  4520  9037  1233  4584\n",
      "  7037  2141  2558  4247  5395  1113]\n",
      "[ 7639  4901  2794  5236  5053  5861 16348 21191  7629 12598  4473  3446\n",
      "  2720  4583  4158 10439 13155 14751 15741  9889  7566  9917 11090  9208\n",
      " 10663  3757  3473  3516 12242 14303  8865 16156  4508  9066  1230  4576\n",
      "  7037  2137  2557  4227  5418  1113]\n",
      "[ 7640  4894  2798  5248  5055  5878 16347 21167  7624 12595  4464  3465\n",
      "  2708  4589  4170 10430 13133 14751 15734  9912  7557  9912 11093  9231\n",
      " 10664  3753  3470  3503 12232 14297  8870 16162  4525  9042  1231  4574\n",
      "  7039  2141  2554  4234  5422  1109]\n",
      "[ 7641  4901  2800  5248  5059  5862 16346 21157  7622 12608  4443  3449\n",
      "  2705  4593  4177 10413 13145 14776 15745  9922  7566  9898 11089  9229\n",
      " 10676  3755  3494  3493 12249 14305  8877 16190  4507  9059  1234  4571\n",
      "  7031  2141  2554  4235  5421  1104]\n",
      "[ 7616  4888  2799  5233  5070  5870 16313 21141  7634 12603  4449  3463\n",
      "  2720  4583  4175 10419 13139 14778 15781  9912  7561  9898 11083  9222\n",
      " 10680  3749  3496  3478 12246 14291  8865 16189  4512  9029  1236  4571\n",
      "  7034  2142  2564  4264  5422  1104]\n",
      "[ 7624  4880  2793  5238  5073  5861 16312 21148  7638 12625  4463  3476\n",
      "  2700  4584  4170 10405 13154 14774 15813  9928  7544  9897 11056  9225\n",
      " 10709  3757  3499  3468 12261 14301  8865 16185  4528  9005  1235  4565\n",
      "  7034  2137  2566  4265  5424  1102]\n",
      "[ 7628  4861  2809  5234  5091  5845 16298 21148  7628 12643  4478  3471\n",
      "  2695  4578  4182 10416 13168 14765 15810  9926  7557  9884 11080  9234\n",
      " 10713  3764  3483  3458 12265 14302  8867 16184  4531  8995  1233  4569\n",
      "  7054  2137  2579  4269  5437  1106]\n",
      "[ 7630  4869  2805  5248  5088  5867 16317 21165  7635 12644  4474  3463\n",
      "  2685  4603  4206 10385 13195 14754 15776  9926  7571  9875 11096  9226\n",
      " 10722  3767  3480  3454 12261 14304  8839 16193  4533  8989  1226  4561\n",
      "  7067  2137  2584  4266  5432  1102]\n",
      "[ 7620  4871  2801  5255  5087  5880 16320 21193  7644 12646  4457  3462\n",
      "  2675  4594  4213 10356 13209 14751 15784  9932  7575  9865 11107  9208\n",
      " 10730  3776  3477  3463 12251 14321  8830 16200  4539  8994  1215  4564\n",
      "  7059  2139  2581  4280  5436  1108]\n",
      "[ 7606  4882  2803  5244  5090  5874 16299 21205  7635 12669  4459  3444\n",
      "  2677  4602  4208 10335 13223 14776 15764  9942  7583  9869 11102  9204\n",
      " 10729  3794  3468  3455 12237 14323  8833 16209  4546  8946  1203  4570\n",
      "  7051  2141  2587  4278  5444  1103]\n",
      "[ 7593  4893  2813  5241  5066  5885 16293 21196  7632 12676  4441  3447\n",
      "  2670  4587  4197 10321 13221 14775 15773  9959  7578  9888 11092  9199\n",
      " 10746  3804  3464  3457 12249 14324  8812 16202  4548  8930  1197  4570\n",
      "  7054  2144  2579  4271  5429  1088]\n",
      "[ 7587  4879  2813  5239  5048  5888 16326 21180  7644 12662  4439  3433\n",
      "  2679  4575  4195 10310 13203 14760 15764  9949  7594  9895 11080  9191\n",
      " 10728  3829  3443  3440 12219 14314  8810 16201  4563  8921  1195  4580\n",
      "  7053  2140  2584  4274  5433  1088]\n",
      "[ 7596  4880  2816  5235  5049  5888 16331 21141  7639 12659  4429  3430\n",
      "  2679  4574  4184 10305 13193 14783 15753  9955  7579  9906 11082  9194\n",
      " 10743  3822  3431  3450 12227 14311  8814 16198  4564  8939  1196  4583\n",
      "  7055  2126  2596  4279  5439  1090]\n",
      "[ 7580  4893  2803  5235  5046  5910 16315 21144  7635 12649  4428  3408\n",
      "  2679  4579  4180 10275 13193 14788 15754  9929  7589  9904 11048  9196\n",
      " 10766  3825  3433  3445 12234 14313  8809 16204  4568  8909  1201  4575\n",
      "  7045  2127  2593  4286  5447  1098]\n",
      "[ 7583  4907  2805  5225  5041  5915 16313 21164  7646 12645  4415  3401\n",
      "  2672  4587  4196 10273 13164 14792 15729  9907  7593  9916 11052  9207\n",
      " 10778  3831  3422  3441 12229 14348  8822 16217  4580  8891  1207  4575\n",
      "  7044  2131  2593  4288  5447  1092]\n",
      "[ 7571  4907  2815  5202  5034  5917 16292 21156  7659 12645  4394  3396\n",
      "  2680  4604  4191 10258 13176 14794 15715  9911  7595  9901 11071  9196\n",
      " 10777  3839  3407  3453 12208 14337  8817 16214  4583  8895  1201  4589\n",
      "  7046  2141  2594  4304  5455  1081]\n",
      "[ 7562  4914  2815  5180  5050  5923 16284 21160  7674 12659  4386  3389\n",
      "  2672  4609  4199 10276 13157 14811 15747  9923  7579  9879 11081  9188\n",
      " 10769  3829  3396  3470 12221 14349  8828 16228  4578  8886  1198  4588\n",
      "  7045  2140  2595  4303  5458  1086]\n",
      "[ 7538  4918  2814  5168  5086  5916 16268 21151  7678 12665  4392  3374\n",
      "  2676  4616  4192 10274 13164 14839 15763  9922  7579  9856 11068  9182\n",
      " 10727  3829  3401  3471 12255 14376  8835 16246  4580  8891  1197  4590\n",
      "  7026  2135  2594  4289  5464  1089]\n",
      "[ 7512  4925  2809  5175  5095  5903 16272 21123  7678 12641  4402  3367\n",
      "  2674  4619  4177 10284 13187 14823 15773  9920  7586  9864 11073  9196\n",
      " 10707  3825  3381  3461 12237 14380  8826 16231  4572  8893  1202  4590\n",
      "  7008  2129  2597  4300  5453  1083]\n",
      "[ 7521  4935  2803  5178  5100  5918 16285 21133  7651 12623  4405  3364\n",
      "  2662  4624  4173 10288 13179 14824 15772  9917  7600  9855 11060  9194\n",
      " 10715  3827  3392  3455 12250 14356  8840 16201  4567  8898  1206  4598\n",
      "  7015  2139  2597  4306  5442  1093]\n",
      "[ 7531  4944  2801  5203  5124  5918 16282 21119  7648 12592  4413  3359\n",
      "  2669  4635  4170 10288 13147 14811 15732  9922  7592  9848 11057  9186\n",
      " 10715  3832  3391  3474 12238 14359  8831 16194  4564  8892  1207  4597\n",
      "  7024  2135  2602  4299  5427  1107]\n",
      "[ 7524  4942  2811  5230  5127  5927 16254 21102  7661 12586  4417  3364\n",
      "  2661  4626  4182 10292 13151 14816 15709  9924  7591  9837 11057  9179\n",
      " 10692  3822  3391  3472 12243 14347  8855 16201  4562  8905  1208  4596\n",
      "  7025  2136  2601  4311  5424  1104]\n",
      "[ 7544  4935  2811  5218  5128  5920 16227 21136  7676 12585  4417  3360\n",
      "  2655  4619  4170 10276 13145 14784 15697  9914  7587  9839 11048  9160\n",
      " 10694  3821  3395  3467 12212 14363  8880 16187  4553  8904  1205  4595\n",
      "  7018  2140  2601  4308  5427  1095]\n",
      "[ 7536  4932  2815  5232  5137  5913 16233 21128  7660 12585  4424  3367\n",
      "  2654  4616  4175 10278 13134 14797 15691  9898  7574  9836 11051  9153\n",
      " 10687  3805  3396  3466 12187 14378  8874 16218  4553  8904  1199  4603\n",
      "  7017  2133  2602  4311  5439  1095]\n",
      "[ 7531  4939  2807  5253  5140  5940 16221 21108  7668 12575  4424  3373\n",
      "  2655  4617  4176 10284 13150 14806 15689  9883  7575  9851 11066  9156\n",
      " 10702  3797  3407  3474 12183 14391  8887 16216  4558  8892  1196  4606\n",
      "  7025  2126  2612  4317  5433  1100]\n",
      "[ 7520  4931  2818  5243  5139  5931 16200 21113  7670 12568  4419  3378\n",
      "  2659  4613  4173 10268 13159 14834 15716  9875  7572  9849 11057  9158\n",
      " 10693  3803  3416  3462 12181 14371  8877 16224  4567  8898  1195  4608\n",
      "  7030  2122  2607  4307  5426  1097]\n",
      "[ 7529  4933  2808  5235  5136  5938 16185 21095  7675 12567  4412  3377\n",
      "  2664  4604  4168 10288 13188 14839 15731  9868  7572  9868 11048  9170\n",
      " 10712  3818  3413  3451 12168 14363  8870 16241  4574  8896  1189  4600\n",
      "  7030  2123  2602  4310  5415  1100]\n",
      "[ 7532  4951  2805  5240  5143  5925 16208 21106  7688 12577  4421  3377\n",
      "  2670  4584  4172 10292 13196 14852 15726  9892  7570  9863 11037  9151\n",
      " 10688  3797  3420  3461 12210 14354  8847 16253  4575  8910  1186  4597\n",
      "  7039  2136  2604  4298  5411  1108]\n",
      "[ 7532  4952  2803  5225  5152  5912 16233 21103  7664 12568  4405  3364\n",
      "  2667  4590  4173 10280 13199 14831 15734  9922  7587  9875 11037  9136\n",
      " 10668  3811  3413  3451 12218 14347  8833 16244  4564  8921  1190  4589\n",
      "  7047  2155  2597  4289  5403  1115]\n",
      "[ 7529  4949  2800  5239  5139  5923 16202 21133  7668 12571  4405  3366\n",
      "  2672  4585  4174 10264 13193 14823 15732  9931  7613  9887 11042  9124\n",
      " 10655  3802  3414  3467 12201 14376  8832 16266  4550  8922  1190  4596\n",
      "  7041  2159  2595  4315  5416  1107]\n"
     ]
    },
    {
     "name": "stdout",
     "output_type": "stream",
     "text": [
      "[ 7516  4961  2801  5250  5131  5920 16219 21122  7667 12560  4409  3363\n",
      "  2688  4588  4169 10261 13208 14811 15700  9941  7614  9887 11054  9138\n",
      " 10646  3800  3416  3456 12180 14338  8847 16310  4558  8933  1190  4593\n",
      "  7028  2153  2599  4317  5418  1107]\n",
      "[ 7521  4959  2811  5251  5139  5924 16217 21138  7673 12564  4417  3359\n",
      "  2672  4568  4175 10260 13216 14827 15714  9934  7604  9880 11035  9133\n",
      " 10639  3789  3423  3451 12176 14310  8856 16320  4556  8947  1190  4592\n",
      "  7027  2160  2601  4311  5415  1107]\n",
      "[ 7523  4960  2809  5250  5134  5916 16207 21139  7675 12569  4404  3346\n",
      "  2667  4584  4180 10259 13223 14837 15704  9933  7606  9902 11032  9140\n",
      " 10625  3787  3420  3442 12145 14305  8863 16309  4548  8947  1190  4596\n",
      "  7031  2164  2594  4302  5410  1111]\n",
      "[ 7511  4956  2801  5229  5132  5899 16192 21152  7671 12570  4410  3363\n",
      "  2668  4575  4168 10239 13231 14810 15689  9932  7616  9900 11038  9141\n",
      " 10646  3782  3446  3426 12138 14308  8847 16299  4549  8970  1189  4599\n",
      "  7037  2150  2586  4306  5419  1106]\n",
      "[ 7527  4946  2804  5239  5130  5856 16188 21110  7679 12582  4420  3362\n",
      "  2682  4589  4168 10238 13221 14807 15661  9927  7607  9901 11045  9116\n",
      " 10641  3780  3450  3433 12152 14347  8846 16302  4554  8986  1189  4589\n",
      "  7058  2152  2582  4305  5418  1105]\n",
      "[ 7519  4940  2809  5224  5113  5869 16186 21100  7685 12578  4422  3387\n",
      "  2678  4588  4170 10227 13201 14811 15666  9923  7626  9891 11057  9126\n",
      " 10639  3784  3441  3435 12164 14339  8851 16319  4560  8993  1187  4585\n",
      "  7074  2141  2579  4294  5419  1100]\n",
      "[ 7535  4938  2814  5231  5105  5881 16178 21055  7683 12571  4426  3379\n",
      "  2683  4602  4169 10226 13194 14800 15672  9946  7640  9900 11069  9123\n",
      " 10652  3787  3453  3431 12160 14342  8853 16307  4555  8987  1191  4578\n",
      "  7084  2133  2575  4289  5420  1100]\n",
      "[ 7549  4928  2814  5229  5111  5877 16158 21059  7683 12563  4423  3381\n",
      "  2666  4614  4151 10222 13193 14786 15685  9933  7633  9889 11074  9101\n",
      " 10625  3780  3451  3453 12152 14342  8868 16313  4543  8975  1191  4574\n",
      "  7071  2131  2585  4296  5402  1108]\n",
      "[ 7551  4916  2814  5231  5136  5886 16161 21070  7674 12545  4423  3393\n",
      "  2661  4611  4141 10216 13215 14812 15695  9922  7636  9886 11075  9111\n",
      " 10628  3789  3448  3445 12173 14341  8855 16323  4551  8981  1191  4583\n",
      "  7065  2129  2588  4301  5409  1106]\n",
      "[ 7549  4898  2838  5238  5125  5866 16169 21145  7681 12551  4427  3400\n",
      "  2647  4604  4151 10244 13241 14836 15698  9928  7645  9896 11076  9111\n",
      " 10622  3799  3438  3456 12184 14343  8846 16326  4542  9017  1196  4583\n",
      "  7055  2124  2590  4285  5398  1106]\n",
      "[ 7565  4913  2820  5242  5126  5878 16163 21111  7683 12537  4431  3411\n",
      "  2650  4601  4155 10245 13264 14826 15684  9933  7647  9894 11084  9103\n",
      " 10630  3817  3438  3449 12193 14341  8853 16333  4547  9004  1200  4581\n",
      "  7066  2135  2583  4290  5390  1110]\n",
      "[ 7573  4919  2802  5261  5139  5888 16185 21084  7673 12559  4409  3399\n",
      "  2638  4617  4149 10227 13291 14850 15696  9948  7648  9898 11068  9104\n",
      " 10628  3817  3446  3450 12177 14300  8857 16337  4537  9022  1194  4570\n",
      "  7074  2135  2590  4276  5393  1107]\n",
      "[ 7559  4933  2798  5252  5138  5900 16201 21077  7671 12540  4406  3389\n",
      "  2637  4627  4157 10223 13282 14832 15718  9945  7645  9904 11066  9123\n",
      " 10633  3801  3450  3446 12173 14314  8864 16341  4532  9032  1196  4573\n",
      "  7078  2126  2589  4275  5396  1102]\n",
      "[ 7550  4936  2804  5259  5138  5902 16168 21067  7687 12507  4385  3398\n",
      "  2644  4618  4136 10218 13261 14826 15713  9934  7646  9919 11064  9121\n",
      " 10632  3790  3460  3436 12196 14321  8857 16339  4529  9033  1203  4570\n",
      "  7087  2134  2596  4278  5396  1099]\n",
      "[ 7561  4930  2800  5276  5139  5917 16194 21083  7678 12513  4356  3396\n",
      "  2634  4609  4124 10242 13296 14829 15711  9922  7656  9928 11046  9132\n",
      " 10612  3777  3452  3442 12185 14311  8858 16342  4516  9022  1200  4581\n",
      "  7075  2135  2594  4288  5398  1106]\n",
      "[ 7561  4920  2799  5265  5133  5898 16174 21092  7689 12535  4364  3387\n",
      "  2624  4613  4131 10255 13274 14829 15702  9908  7644  9931 11048  9127\n",
      " 10611  3768  3445  3442 12174 14268  8844 16335  4515  9048  1193  4596\n",
      "  7076  2138  2586  4278  5406  1110]\n",
      "[ 7578  4920  2791  5257  5122  5913 16171 21072  7689 12538  4367  3404\n",
      "  2623  4613  4138 10239 13236 14835 15695  9909  7650  9941 11054  9140\n",
      " 10616  3761  3448  3435 12176 14246  8842 16336  4514  9042  1196  4601\n",
      "  7064  2154  2583  4290  5418  1104]\n"
     ]
    },
    {
     "ename": "KeyboardInterrupt",
     "evalue": "",
     "output_type": "error",
     "traceback": [
      "\u001b[0;31m---------------------------------------------------------------------------\u001b[0m",
      "\u001b[0;31mKeyboardInterrupt\u001b[0m                         Traceback (most recent call last)",
      "\u001b[0;32m<ipython-input-65-ad4b85044a5f>\u001b[0m in \u001b[0;36m<module>\u001b[0;34m()\u001b[0m\n\u001b[1;32m      1\u001b[0m \u001b[0;32mfor\u001b[0m \u001b[0mt\u001b[0m \u001b[0;32min\u001b[0m \u001b[0mrange\u001b[0m\u001b[0;34m(\u001b[0m\u001b[0;36m10000\u001b[0m\u001b[0;34m)\u001b[0m\u001b[0;34m:\u001b[0m\u001b[0;34m\u001b[0m\u001b[0m\n\u001b[1;32m      2\u001b[0m     \u001b[0mref_model\u001b[0m\u001b[0;34m.\u001b[0m\u001b[0mrecord_to_history_continous\u001b[0m\u001b[0;34m(\u001b[0m\u001b[0;34m)\u001b[0m\u001b[0;34m\u001b[0m\u001b[0m\n\u001b[0;32m----> 3\u001b[0;31m     \u001b[0mref_model\u001b[0m\u001b[0;34m.\u001b[0m\u001b[0mnormal_alpha_syn_growth_edge_continuous\u001b[0m\u001b[0;34m(\u001b[0m\u001b[0;34m)\u001b[0m\u001b[0;34m\u001b[0m\u001b[0m\n\u001b[0m\u001b[1;32m      4\u001b[0m     \u001b[0mref_model\u001b[0m\u001b[0;34m.\u001b[0m\u001b[0mnormal_alpha_syn_growth_region\u001b[0m\u001b[0;34m(\u001b[0m\u001b[0;34m)\u001b[0m\u001b[0;34m\u001b[0m\u001b[0m\n\u001b[1;32m      5\u001b[0m     \u001b[0mprint\u001b[0m\u001b[0;34m(\u001b[0m\u001b[0mref_model\u001b[0m\u001b[0;34m.\u001b[0m\u001b[0mnor\u001b[0m\u001b[0;34m)\u001b[0m\u001b[0;34m\u001b[0m\u001b[0m\n",
      "\u001b[0;32m<ipython-input-60-4965c93c73a4>\u001b[0m in \u001b[0;36mnormal_alpha_syn_growth_edge_continuous\u001b[0;34m(self)\u001b[0m\n\u001b[1;32m    108\u001b[0m \u001b[0;34m\u001b[0m\u001b[0m\n\u001b[1;32m    109\u001b[0m         \u001b[0;32mfor\u001b[0m \u001b[0mx\u001b[0m\u001b[0;34m,\u001b[0m \u001b[0my\u001b[0m \u001b[0;32min\u001b[0m \u001b[0mzip\u001b[0m\u001b[0;34m(\u001b[0m\u001b[0mself\u001b[0m\u001b[0;34m.\u001b[0m\u001b[0midx_x\u001b[0m\u001b[0;34m,\u001b[0m \u001b[0mself\u001b[0m\u001b[0;34m.\u001b[0m\u001b[0midx_y\u001b[0m\u001b[0;34m)\u001b[0m\u001b[0;34m:\u001b[0m\u001b[0;34m\u001b[0m\u001b[0m\n\u001b[0;32m--> 110\u001b[0;31m             \u001b[0menter_process\u001b[0m\u001b[0;34m[\u001b[0m\u001b[0mx\u001b[0m\u001b[0;34m,\u001b[0m \u001b[0my\u001b[0m\u001b[0;34m]\u001b[0m \u001b[0;34m=\u001b[0m \u001b[0mnp\u001b[0m\u001b[0;34m.\u001b[0m\u001b[0msum\u001b[0m\u001b[0;34m(\u001b[0m\u001b[0mnp\u001b[0m\u001b[0;34m.\u001b[0m\u001b[0mrandom\u001b[0m\u001b[0;34m.\u001b[0m\u001b[0muniform\u001b[0m\u001b[0;34m(\u001b[0m\u001b[0;36m0\u001b[0m\u001b[0;34m,\u001b[0m \u001b[0;36m1\u001b[0m\u001b[0;34m,\u001b[0m \u001b[0;34m(\u001b[0m\u001b[0mself\u001b[0m\u001b[0;34m.\u001b[0m\u001b[0mpath_nor_cont\u001b[0m\u001b[0;34m[\u001b[0m\u001b[0mx\u001b[0m\u001b[0;34m,\u001b[0m \u001b[0my\u001b[0m\u001b[0;34m]\u001b[0m\u001b[0;34m,\u001b[0m \u001b[0;34m)\u001b[0m\u001b[0;34m)\u001b[0m \u001b[0;34m<\u001b[0m \u001b[0mself\u001b[0m\u001b[0;34m.\u001b[0m\u001b[0mprob_exit\u001b[0m\u001b[0;34m[\u001b[0m\u001b[0mx\u001b[0m\u001b[0;34m,\u001b[0m \u001b[0my\u001b[0m\u001b[0;34m]\u001b[0m\u001b[0;34m*\u001b[0m\u001b[0mself\u001b[0m\u001b[0;34m.\u001b[0m\u001b[0mdt\u001b[0m\u001b[0;34m)\u001b[0m\u001b[0;34m\u001b[0m\u001b[0m\n\u001b[0m\u001b[1;32m    111\u001b[0m \u001b[0;34m\u001b[0m\u001b[0m\n\u001b[1;32m    112\u001b[0m         \u001b[0;31m# update:\u001b[0m\u001b[0;34m\u001b[0m\u001b[0;34m\u001b[0m\u001b[0m\n",
      "\u001b[0;31mKeyboardInterrupt\u001b[0m: "
     ]
    }
   ],
   "source": [
    "for t in range(10000):\n",
    "    ref_model.record_to_history_continous()\n",
    "    ref_model.normal_alpha_syn_growth_edge_continuous()\n",
    "    ref_model.normal_alpha_syn_growth_region()\n",
    "    print(ref_model.nor)    "
   ]
  },
  {
   "cell_type": "code",
   "execution_count": null,
   "metadata": {},
   "outputs": [],
   "source": []
  },
  {
   "cell_type": "code",
   "execution_count": 380,
   "metadata": {},
   "outputs": [
    {
     "name": "stderr",
     "output_type": "stream",
     "text": [
      "/export02/data/anaconda/anaconda3/lib/python3.6/site-packages/ipykernel/__main__.py:1: RuntimeWarning: invalid value encountered in true_divide\n",
      "  if __name__ == '__main__':\n"
     ]
    },
    {
     "data": {
      "image/png": "[encoded data removed]",
      "text/plain": [
       "<matplotlib.figure.Figure at 0x7f9a34281cf8>"
      ]
     },
     "metadata": {},
     "output_type": "display_data"
    }
   ],
   "source": [
    "ratio = one_model.mis_history / (one_model.mis_history + one_model.nor_history)\n",
    "plt.figure(figsize = (35, 5))\n",
    "plt.imshow(ratio.T,  cmap=plt.cm.RdBu, aspect='auto')\n",
    "plt.xlim(0, 6000)\n",
    "plt.ylim(0, 41)\n",
    "plt.colorbar()\n",
    "plt.show()"
   ]
  },
  {
   "cell_type": "code",
   "execution_count": 41,
   "metadata": {},
   "outputs": [
    {
     "data": {
      "text/plain": [
       "array([[ 0.59934275],\n",
       "       [ 0.26101632],\n",
       "       [ 0.29000476],\n",
       "       [ 0.82548406],\n",
       "       [ 0.64681165],\n",
       "       [ 0.46708861],\n",
       "       [ 0.39060002],\n",
       "       [ 0.540445  ],\n",
       "       [ 0.23598362],\n",
       "       [ 0.07745063],\n",
       "       [ 0.16678801],\n",
       "       [ 1.09441929],\n",
       "       [ 0.5493068 ],\n",
       "       [ 0.61300713],\n",
       "       [ 0.39203754],\n",
       "       [ 0.12267327],\n",
       "       [ 0.47482925],\n",
       "       [ 0.11458936],\n",
       "       [ 0.33640297],\n",
       "       [ 0.07466711],\n",
       "       [-0.37034188],\n",
       "       [-0.94981583],\n",
       "       [-0.19041772],\n",
       "       [-0.30001395],\n",
       "       [ 0.74709943],\n",
       "       [ 0.44602376],\n",
       "       [ 0.43051001],\n",
       "       [ 0.75563896],\n",
       "       [ 0.62976586],\n",
       "       [ 0.65549983],\n",
       "       [ 0.36909722],\n",
       "       [ 0.64775809],\n",
       "       [ 0.28991633],\n",
       "       [ 0.77699072],\n",
       "       [-3.33599077],\n",
       "       [-2.04487788],\n",
       "       [-2.00433353],\n",
       "       [-2.77105086],\n",
       "       [-1.67836188],\n",
       "       [-0.47255766],\n",
       "       [-0.79877398],\n",
       "       [ 0.89528759]])"
      ]
     },
     "execution_count": 41,
     "metadata": {},
     "output_type": "execute_result"
    }
   ],
   "source": [
    "snca"
   ]
  },
  {
   "cell_type": "code",
   "execution_count": null,
   "metadata": {},
   "outputs": [],
   "source": []
  },
  {
   "cell_type": "code",
   "execution_count": 28,
   "metadata": {
    "scrolled": true
   },
   "outputs": [
    {
     "name": "stdout",
     "output_type": "stream",
     "text": [
      "[  5.00000000e-01   1.09868721e-01   0.00000000e+00   0.00000000e+00\n",
      "   3.36497591e-02   0.00000000e+00   1.95975993e-02   0.00000000e+00\n",
      "   0.00000000e+00   0.00000000e+00   0.00000000e+00   0.00000000e+00\n",
      "   0.00000000e+00   0.00000000e+00   0.00000000e+00   0.00000000e+00\n",
      "   0.00000000e+00   1.36619557e-03   0.00000000e+00   3.11679657e-04\n",
      "   4.11281586e-04   6.01634015e-03   9.77070167e-03   7.71687431e-03\n",
      "   1.31527236e-03   0.00000000e+00   1.53863229e-03   2.12806671e-02\n",
      "   0.00000000e+00   0.00000000e+00   0.00000000e+00   2.85076141e-02\n",
      "   0.00000000e+00   4.01616247e-02   2.05182233e-03   1.54469524e-02\n",
      "   1.85345943e-02   0.00000000e+00   4.74075350e-03   0.00000000e+00\n",
      "   3.45647835e-03   0.00000000e+00]\n"
     ]
    }
   ],
   "source": [
    "print(ref_model.weights[:, 0])"
   ]
  },
  {
   "cell_type": "code",
   "execution_count": 615,
   "metadata": {},
   "outputs": [],
   "source": [
    "for t in range(600):\n",
    "    ref_model.record_to_history()\n",
    "    ref_model.nor_step_region()\n",
    "    ref_model.nor_travel()"
   ]
  },
  {
   "cell_type": "code",
   "execution_count": 681,
   "metadata": {
    "scrolled": true
   },
   "outputs": [
    {
     "data": {
      "image/png": "[encoded data removed]",
      "text/plain": [
       "<matplotlib.figure.Figure at 0x7f1f357ad438>"
      ]
     },
     "metadata": {},
     "output_type": "display_data"
    },
    {
     "data": {
      "text/plain": [
       "0.17210000123132613"
      ]
     },
     "execution_count": 681,
     "metadata": {},
     "output_type": "execute_result"
    }
   ],
   "source": [
    "plt.plot(np.arange(42), (1  - np.exp(- 7 / ref_model.nor)  ) )\n",
    "#plt.plot(np.arange(42), ref_model.clearance_rate)\n",
    "plt.show()\n",
    "#np.max((1  - np.exp(- 1 / roi_size.flatten())  )* ref_model.nor*ref_model.clearance_rate)"
   ]
  },
  {
   "cell_type": "code",
   "execution_count": 264,
   "metadata": {},
   "outputs": [
    {
     "data": {
      "image/png": "[encoded data removed]",
      "text/plain": [
       "<matplotlib.figure.Figure at 0x7f1f411bc6a0>"
      ]
     },
     "metadata": {},
     "output_type": "display_data"
    }
   ],
   "source": [
    "plt.plot(np.arange(42), ref_model.nor_history[599,:])\n",
    "plt.plot(np.arange(42), ref_model.synthesis_rate * ref_model.roi_size)\n",
    "plt.show()"
   ]
  },
  {
   "cell_type": "code",
   "execution_count": 267,
   "metadata": {},
   "outputs": [
    {
     "data": {
      "image/png": "[encoded data removed]",
      "text/plain": [
       "<matplotlib.figure.Figure at 0x7f1f3b6ae358>"
      ]
     },
     "metadata": {},
     "output_type": "display_data"
    }
   ],
   "source": [
    "plt.plot(ref_model.synthesis_rate * ref_model.roi_size, ref_model.nor_history[599,:], marker = 'o', ls='')\n",
    "plt.show()"
   ]
  },
  {
   "cell_type": "code",
   "execution_count": 36,
   "metadata": {},
   "outputs": [
    {
     "name": "stdout",
     "output_type": "stream",
     "text": [
      "[[  1.15690787e+00]\n",
      " [  1.14086174e+00]\n",
      " [  1.04870543e+00]\n",
      " [  1.02317342e+00]\n",
      " [  1.08578554e+00]\n",
      " [  8.76823156e-01]\n",
      " [  1.03842504e+00]\n",
      " [  8.90289158e-01]\n",
      " [  8.24914831e-01]\n",
      " [  1.11276006e+00]\n",
      " [  1.10043645e+00]\n",
      " [  1.01179406e+00]\n",
      " [  7.98874928e-01]\n",
      " [  1.29209067e+00]\n",
      " [  8.29381671e-01]\n",
      " [  1.21210413e+00]\n",
      " [  1.30687472e+00]\n",
      " [  1.38135591e+00]\n",
      " [  1.63923477e+00]\n",
      " [  1.29877197e+00]\n",
      " [  3.42789499e+00]\n",
      " [  3.68423636e+00]\n",
      " [  1.70766039e+00]\n",
      " [  8.72928303e+01]\n",
      " [  1.58000031e+00]\n",
      " [  1.26533207e+01]\n",
      " [  8.43128091e-01]\n",
      " [  9.16965475e-01]\n",
      " [  1.21504867e+00]\n",
      " [  1.08199065e+00]\n",
      " [  2.29606920e+00]\n",
      " [  1.64092023e+00]\n",
      " [  1.04559176e+00]\n",
      " [  1.02064491e+00]\n",
      " [  9.98085575e-04]\n",
      " [  3.50647031e-01]\n",
      " [  2.92358202e-01]\n",
      " [  2.47413856e-02]\n",
      " [  2.96755626e-01]\n",
      " [  4.20820030e-01]\n",
      " [  1.84835973e+00]\n",
      " [  5.17483578e-01]]\n"
     ]
    }
   ],
   "source": [
    "print(norm.cdf(snca)/norm.cdf(gba))"
   ]
  },
  {
   "cell_type": "code",
   "execution_count": 143,
   "metadata": {},
   "outputs": [
    {
     "data": {
      "text/plain": [
       "array([ 879,  694,  416,  632,  823,  992, 1765, 1886, 1139, 1474,  678,\n",
       "        668,  701,  742,  802, 1443, 1949, 1670, 2181, 1027,  791,  937,\n",
       "       1642, 1066, 1427,  865,  937,  705, 1806, 1835, 1568, 1669,  974,\n",
       "       1014,  560,  791,  877,  612,  779,  816,  856,  331])"
      ]
     },
     "execution_count": 143,
     "metadata": {},
     "output_type": "execute_result"
    }
   ],
   "source": [
    "ref_model.nor"
   ]
  },
  {
   "cell_type": "code",
   "execution_count": 415,
   "metadata": {},
   "outputs": [
    {
     "data": {
      "text/plain": [
       "array([ 0.06729488,  0.35529803,  0.73324605,  0.12097314,  0.10151572,\n",
       "        0.0747023 ,  0.00809712,  0.00237094,  0.00564572,  0.0325992 ,\n",
       "        0.05016841,  0.21395461,  0.33173931,  0.1171316 ,  0.54338196,\n",
       "        0.06897323,  0.08649545,  0.13763325,  0.27509847,  0.08605413,\n",
       "        0.61562643,  0.78802396,  0.30775552,  0.41351404,  0.12158858,\n",
       "        0.78483114,  0.91990887,  0.38547827,  0.05023546,  0.03751977,\n",
       "        0.73245257,  0.14613648,  0.61959819,  0.05754343,  0.04443696,\n",
       "        0.19889937,  0.12269019,  0.33397811,  0.79225181,  0.25627427,\n",
       "        0.63212056,  0.96491565])"
      ]
     },
     "execution_count": 415,
     "metadata": {},
     "output_type": "execute_result"
    }
   ],
   "source": [
    "one_model.prob_infected"
   ]
  },
  {
   "cell_type": "code",
   "execution_count": 30,
   "metadata": {},
   "outputs": [
    {
     "name": "stdout",
     "output_type": "stream",
     "text": [
      "[ 1.  1.  1.  1.  1.  1.  1.  1.  1.  1.  1.  1.  1.  1.  1.  1.  1.  1.\n",
      "  1.  1.  1.  1.  1.  1.  1.  1.  1.  1.  1.  1.  1.  1.  1.  1.  1.  1.\n",
      "  1.  1.  1.  1.  1.  1.]\n"
     ]
    }
   ],
   "source": [
    "from scipy.io import loadmat\n",
    "para2 = loadmat('/dagher/dagher6/yzheng/ICBM152_nlin_sym_09a/simulator_v3/workspace.mat')\n",
    "nsconn_den = para2['nsconnDen_th']\n",
    "np.sum(nsconn_den, axis = 1).shape\n",
    "weights = nsconn_den / np.sum(nsconn_den, axis = 0)[np.newaxis]\n",
    "print(np.sum(weights, axis = 0))"
   ]
  },
  {
   "cell_type": "code",
   "execution_count": 719,
   "metadata": {},
   "outputs": [
    {
     "name": "stderr",
     "output_type": "stream",
     "text": [
      "/export02/data/anaconda/anaconda3/lib/python3.6/site-packages/ipykernel/__main__.py:1: RuntimeWarning: invalid value encountered in true_divide\n",
      "  if __name__ == '__main__':\n"
     ]
    },
    {
     "data": {
      "image/png": "[encoded data removed]",
      "text/plain": [
       "<matplotlib.figure.Figure at 0x7f1f4122ceb8>"
      ]
     },
     "metadata": {},
     "output_type": "display_data"
    }
   ],
   "source": [
    "ratio = one_model.mis_history / (one_model.mis_history + one_model.nor_history)\n",
    "plt.imshow(ratio_cum.T, aspect='auto')\n",
    "plt.xlim(0, 7000)\n",
    "plt.ylim(0, 41)\n",
    "plt.colorbar()\n",
    "plt.show()"
   ]
  },
  {
   "cell_type": "code",
   "execution_count": 718,
   "metadata": {},
   "outputs": [
    {
     "name": "stderr",
     "output_type": "stream",
     "text": [
      "/export02/data/anaconda/anaconda3/lib/python3.6/site-packages/ipykernel/__main__.py:3: RuntimeWarning: invalid value encountered in less\n",
      "  app.launch_new_instance()\n"
     ]
    },
    {
     "data": {
      "text/plain": [
       "0.33226946305995808"
      ]
     },
     "execution_count": 718,
     "metadata": {},
     "output_type": "execute_result"
    }
   ],
   "source": [
    "weights = nsconn_den / np.sum(nsconn_den, axis = 0)[np.newaxis]\n",
    "ratio_th = ratio.copy()\n",
    "ratio_th[ratio<0] = 0\n",
    "ratio_cum = np.dot( (1 - np.exp(-ratio_th)), weights)\n",
    "ratio_cum = ratio_cum + 1-np.exp(-ratio_th)\n",
    "ratio_cum = np.cumsum(ratio_cum[3000:], axis = 0)\n",
    "(r, p) = pearsonr(ratio[-1, :-1], real_atrophy.flatten())\n",
    "r"
   ]
  },
  {
   "cell_type": "code",
   "execution_count": 325,
   "metadata": {},
   "outputs": [
    {
     "data": {
      "text/plain": [
       "array([[ 1.        ,  0.47877552],\n",
       "       [ 0.47877552,  1.        ]])"
      ]
     },
     "execution_count": 325,
     "metadata": {},
     "output_type": "execute_result"
    }
   ],
   "source": [
    "plt.plot"
   ]
  },
  {
   "cell_type": "code",
   "execution_count": 326,
   "metadata": {},
   "outputs": [
    {
     "data": {
      "text/plain": [
       "0.48432958286706079"
      ]
     },
     "execution_count": 326,
     "metadata": {},
     "output_type": "execute_result"
    }
   ],
   "source": [
    "r"
   ]
  },
  {
   "cell_type": "code",
   "execution_count": 762,
   "metadata": {},
   "outputs": [
    {
     "data": {
      "image/png": "[encoded data removed]",
      "text/plain": [
       "<matplotlib.figure.Figure at 0x7f1f40fcc400>"
      ]
     },
     "metadata": {},
     "output_type": "display_data"
    }
   ],
   "source": [
    "plt.plot(np.arange(one_model.mis_history.shape[0]), one_model.mis_history[:, 41])\n",
    "plt.show()"
   ]
  },
  {
   "cell_type": "code",
   "execution_count": 149,
   "metadata": {},
   "outputs": [
    {
     "data": {
      "text/plain": [
       "array([ 98,  81,  50,  63,  84,  96, 166, 202,  93, 140,  76,  64,  66,\n",
       "        80,  76, 149, 186, 173, 198,  98,  86, 112, 169, 118, 148,  73,\n",
       "        98,  72, 186, 181, 161, 209,  95,  98,  63,  77,  91,  76,  74,\n",
       "        74,  84,  78])"
      ]
     },
     "execution_count": 149,
     "metadata": {},
     "output_type": "execute_result"
    }
   ],
   "source": [
    "ref_model.nor"
   ]
  },
  {
   "cell_type": "code",
   "execution_count": 168,
   "metadata": {},
   "outputs": [
    {
     "data": {
      "text/plain": [
       "(array([ 4,  6,  7,  9, 34, 35, 36, 37]),)"
      ]
     },
     "execution_count": 168,
     "metadata": {},
     "output_type": "execute_result"
    }
   ],
   "source": [
    "np.nonzero(sconn_len[41])"
   ]
  },
  {
   "cell_type": "code",
   "execution_count": 169,
   "metadata": {},
   "outputs": [
    {
     "data": {
      "text/plain": [
       "array([[ 165.14837153,  168.49995681,  167.82605699,  151.36596958,\n",
       "          17.91637478,   74.84649271,   72.02182617,   32.24336325]])"
      ]
     },
     "execution_count": 169,
     "metadata": {},
     "output_type": "execute_result"
    }
   ],
   "source": [
    "sconn_len[41, np.nonzero(sconn_len[41])]"
   ]
  },
  {
   "cell_type": "code",
   "execution_count": 273,
   "metadata": {},
   "outputs": [
    {
     "name": "stderr",
     "output_type": "stream",
     "text": [
      "/export02/data/anaconda/anaconda3/lib/python3.6/site-packages/ipykernel/__main__.py:13: RuntimeWarning: invalid value encountered in true_divide\n",
      "/export02/data/anaconda/anaconda3/lib/python3.6/site-packages/ipykernel/__main__.py:15: RuntimeWarning: invalid value encountered in less\n",
      "/export02/data/anaconda/anaconda3/lib/python3.6/site-packages/scipy/stats/stats.py:3029: RuntimeWarning: invalid value encountered in double_scalars\n",
      "  r = r_num / r_den\n"
     ]
    }
   ],
   "source": [
    "r = np.zeros((42, 100))\n",
    "for region in np.arange(42):\n",
    "    \"\"\"iterate through regions to find epicentre\"\"\"\n",
    "    for simulation in np.arange(100):\n",
    "        one_model = copy.deepcopy(ref_model)\n",
    "        one_model.inject_mis(41, 1)\n",
    "        for t in range(2000):\n",
    "            one_model.record_to_history()\n",
    "            one_model.transmission_region()\n",
    "            one_model.nor_travel()\n",
    "            one_model.mis_travel()\n",
    "        \n",
    "        ratio = one_model.mis_history / (one_model.mis_history + one_model.nor_history)\n",
    "        ratio_th = ratio.copy()\n",
    "        ratio_th[ratio<0.2] = 0\n",
    "        ratio_cum = np.dot( (1 - np.exp(-ratio_th)), weights)\n",
    "        ratio_cum = ratio_cum + 1-np.exp(-ratio_th)\n",
    "        ratio_cum = np.cumsum(ratio_cum[600:], axis = 0)\n",
    "        (r[region, simulation], p) = pearsonr(ratio_cum[-1, :-1], real_atrophy.flatten())\n",
    "        if r[region,simulation] == np.nan:\n",
    "            r[region, simulation] = 0"
   ]
  },
  {
   "cell_type": "code",
   "execution_count": 281,
   "metadata": {},
   "outputs": [],
   "source": [
    "r[np.isnan(r)] = 0"
   ]
  },
  {
   "cell_type": "code",
   "execution_count": 283,
   "metadata": {},
   "outputs": [],
   "source": [
    "mean_r = np.mean(r, axis = 1)"
   ]
  },
  {
   "cell_type": "code",
   "execution_count": 298,
   "metadata": {},
   "outputs": [],
   "source": [
    "sconn = loadmat('/dagher/dagher6/yzheng/ICBM152_nlin_sym_09a/sconn0712.mat')\n",
    "sconn_len = sconn['sconnLen_expand']\n",
    "sconn_den = sconn['sconnDen_expand']"
   ]
  },
  {
   "cell_type": "code",
   "execution_count": 45,
   "metadata": {},
   "outputs": [
    {
     "name": "stdout",
     "output_type": "stream",
     "text": [
      "[   0    0    0 ..., 3082 3053 3070]\n"
     ]
    }
   ],
   "source": [
    "print(one_model.mis_history[:, 41])"
   ]
  },
  {
   "cell_type": "code",
   "execution_count": 99,
   "metadata": {},
   "outputs": [
    {
     "name": "stdout",
     "output_type": "stream",
     "text": [
      "[  8.71045629e+01   2.44279151e+01   8.07609215e+00   4.67646055e+01\n",
      "   4.31845838e+01   5.71520132e+01   1.69668704e+02   2.75811527e+02\n",
      "   6.80735200e+01   1.11660786e+02   3.36038559e+01   3.25342214e+01\n",
      "   1.75935082e+01   3.48760295e+01   1.51401900e+01   8.25698423e+01\n",
      "   1.17402206e+02   1.10985553e+02   1.12762813e+02   8.58580759e+01\n",
      "   1.18964971e+01   7.71937333e+00   6.30244032e+01   2.75063723e+01\n",
      "   1.07455136e+02   1.03872478e+01   1.44369335e+01   2.45134048e+01\n",
      "   1.19056923e+02   1.40863963e+02   2.71009788e+01   1.45001612e+02\n",
      "   1.20936880e+01   7.54361074e+01   6.59048287e-02   4.97597493e-01\n",
      "   8.62870038e+00   3.75899533e-01   2.40217690e-01   7.66946222e+00\n",
      "   8.40637415e+00   8.08588838e-01]\n"
     ]
    }
   ],
   "source": [
    "print(ref_model.synthesis_rate * roi_size.flatten())"
   ]
  },
  {
   "cell_type": "code",
   "execution_count": 122,
   "metadata": {},
   "outputs": [
    {
     "data": {
      "text/plain": [
       "array([ 0.01,  0.01,  0.01])"
      ]
     },
     "execution_count": 122,
     "metadata": {},
     "output_type": "execute_result"
    }
   ],
   "source": [
    "np.ones((3, ), dtype = np.int) * 0.01"
   ]
  },
  {
   "cell_type": "code",
   "execution_count": 124,
   "metadata": {},
   "outputs": [
    {
     "data": {
      "text/plain": [
       "array([ 0. ,  0.1,  0.2,  0.3])"
      ]
     },
     "execution_count": 124,
     "metadata": {},
     "output_type": "execute_result"
    }
   ],
   "source": [
    "np.array([k for k in range(4)]) * 0.1"
   ]
  },
  {
   "cell_type": "code",
   "execution_count": null,
   "metadata": {
    "collapsed": true
   },
   "outputs": [],
   "source": []
  }
 ],
 "metadata": {
  "celltoolbar": "Raw Cell Format",
  "kernelspec": {
   "display_name": "Python [default]",
   "language": "python",
   "name": "python3"
  },
  "language_info": {
   "codemirror_mode": {
    "name": "ipython",
    "version": 3
   },
   "file_extension": ".py",
   "mimetype": "text/x-python",
   "name": "python",
   "nbconvert_exporter": "python",
   "pygments_lexer": "ipython3",
   "version": "3.5.3"
  }
 },
 "nbformat": 4,
 "nbformat_minor": 1
}
